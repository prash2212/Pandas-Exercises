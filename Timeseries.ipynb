{
 "cells": [
  {
   "cell_type": "code",
   "execution_count": 1,
   "metadata": {
    "collapsed": false
   },
   "outputs": [
    {
     "data": {
      "text/plain": [
       "'C:\\\\Users\\\\U0084413\\\\Google Drive\\\\iMac\\\\Machine Learning\\\\Python\\\\Pandas'"
      ]
     },
     "execution_count": 1,
     "metadata": {},
     "output_type": "execute_result"
    }
   ],
   "source": [
    "pwd\n"
   ]
  },
  {
   "cell_type": "code",
   "execution_count": null,
   "metadata": {
    "collapsed": true
   },
   "outputs": [],
   "source": []
  },
  {
   "cell_type": "code",
   "execution_count": 2,
   "metadata": {
    "collapsed": true
   },
   "outputs": [],
   "source": [
    "import pandas as pd\n",
    "import numpy as np"
   ]
  },
  {
   "cell_type": "code",
   "execution_count": 3,
   "metadata": {
    "collapsed": false
   },
   "outputs": [
    {
     "data": {
      "text/plain": [
       "0    1.256414\n",
       "1    0.449094\n",
       "2    0.131458\n",
       "3    0.229381\n",
       "4   -1.947981\n",
       "5   -0.670334\n",
       "6   -0.188054\n",
       "7    0.346398\n",
       "8    1.394779\n",
       "9    1.126061\n",
       "dtype: float64"
      ]
     },
     "execution_count": 3,
     "metadata": {},
     "output_type": "execute_result"
    }
   ],
   "source": [
    "ts = pd.Series(np.random.normal(size=10))\n",
    "ts"
   ]
  },
  {
   "cell_type": "code",
   "execution_count": 4,
   "metadata": {
    "collapsed": false
   },
   "outputs": [
    {
     "data": {
      "text/plain": [
       "0.21272151486258767"
      ]
     },
     "execution_count": 4,
     "metadata": {},
     "output_type": "execute_result"
    }
   ],
   "source": [
    "ts.mean()"
   ]
  },
  {
   "cell_type": "code",
   "execution_count": 5,
   "metadata": {
    "collapsed": false
   },
   "outputs": [
    {
     "data": {
      "text/plain": [
       "1.0005780478644524"
      ]
     },
     "execution_count": 5,
     "metadata": {},
     "output_type": "execute_result"
    }
   ],
   "source": [
    "ts.std()"
   ]
  },
  {
   "cell_type": "code",
   "execution_count": 6,
   "metadata": {
    "collapsed": false
   },
   "outputs": [
    {
     "data": {
      "text/plain": [
       "0      (1.152, 1.395]\n",
       "1      (0.387, 1.152]\n",
       "2      (-0.285, 0.19]\n",
       "3       (0.19, 0.387]\n",
       "4    [-1.948, -0.285]\n",
       "5    [-1.948, -0.285]\n",
       "6      (-0.285, 0.19]\n",
       "7       (0.19, 0.387]\n",
       "8      (1.152, 1.395]\n",
       "9      (0.387, 1.152]\n",
       "dtype: category\n",
       "Categories (5, object): [[-1.948, -0.285] < (-0.285, 0.19] < (0.19, 0.387] < (0.387, 1.152] < (1.152, 1.395]]"
      ]
     },
     "execution_count": 6,
     "metadata": {},
     "output_type": "execute_result"
    }
   ],
   "source": [
    "pd.qcut(ts,5)"
   ]
  },
  {
   "cell_type": "code",
   "execution_count": 18,
   "metadata": {
    "collapsed": false
   },
   "outputs": [
    {
     "data": {
      "text/plain": [
       "DatetimeIndex(['2016-08-01', '2016-08-02', '2016-08-03', '2016-08-04',\n",
       "               '2016-08-05', '2016-08-08', '2016-08-09', '2016-08-10',\n",
       "               '2016-08-11', '2016-08-12', '2016-08-15', '2016-08-16',\n",
       "               '2016-08-17', '2016-08-18', '2016-08-19', '2016-08-22',\n",
       "               '2016-08-23', '2016-08-24', '2016-08-25', '2016-08-26'],\n",
       "              dtype='datetime64[ns]', freq='B')"
      ]
     },
     "execution_count": 18,
     "metadata": {},
     "output_type": "execute_result"
    }
   ],
   "source": [
    "dr=pd.date_range('8/1/2016',periods=20,freq='B')\n",
    "dr"
   ]
  },
  {
   "cell_type": "code",
   "execution_count": 17,
   "metadata": {
    "collapsed": false
   },
   "outputs": [
    {
     "ename": "TypeError",
     "evalue": "__init__() got an unexpected keyword argument 'freq'",
     "output_type": "error",
     "traceback": [
      "\u001b[0;31m---------------------------------------------------------------------------\u001b[0m",
      "\u001b[0;31mTypeError\u001b[0m                                 Traceback (most recent call last)",
      "\u001b[0;32m<ipython-input-17-86f1b60fc811>\u001b[0m in \u001b[0;36m<module>\u001b[0;34m()\u001b[0m\n\u001b[0;32m----> 1\u001b[0;31m \u001b[0mdf\u001b[0m\u001b[1;33m=\u001b[0m\u001b[0mpd\u001b[0m\u001b[1;33m.\u001b[0m\u001b[0mDataFrame\u001b[0m\u001b[1;33m(\u001b[0m\u001b[1;33m{\u001b[0m\u001b[1;34m'num'\u001b[0m\u001b[1;33m:\u001b[0m\u001b[0mnp\u001b[0m\u001b[1;33m.\u001b[0m\u001b[0marange\u001b[0m\u001b[1;33m(\u001b[0m\u001b[1;36m20\u001b[0m\u001b[1;33m)\u001b[0m\u001b[1;33m}\u001b[0m\u001b[1;33m,\u001b[0m\u001b[0mindex\u001b[0m\u001b[1;33m=\u001b[0m\u001b[0mdr\u001b[0m\u001b[1;33m,\u001b[0m\u001b[0mfreq\u001b[0m\u001b[1;33m=\u001b[0m\u001b[1;34m'B'\u001b[0m\u001b[1;33m)\u001b[0m\u001b[1;33m\u001b[0m\u001b[0m\n\u001b[0m\u001b[1;32m      2\u001b[0m \u001b[0mdf\u001b[0m\u001b[1;33m\u001b[0m\u001b[0m\n",
      "\u001b[0;31mTypeError\u001b[0m: __init__() got an unexpected keyword argument 'freq'"
     ]
    }
   ],
   "source": [
    "df=pd.DataFrame({'num':np.arange(20)},index=dr)\n",
    "df"
   ]
  },
  {
   "cell_type": "code",
   "execution_count": 16,
   "metadata": {
    "collapsed": false
   },
   "outputs": [
    {
     "data": {
      "text/html": [
       "<div>\n",
       "<table border=\"1\" class=\"dataframe\">\n",
       "  <thead>\n",
       "    <tr style=\"text-align: right;\">\n",
       "      <th></th>\n",
       "      <th>num</th>\n",
       "    </tr>\n",
       "  </thead>\n",
       "  <tbody>\n",
       "    <tr>\n",
       "      <th>2016-08-10</th>\n",
       "      <td>9</td>\n",
       "    </tr>\n",
       "    <tr>\n",
       "      <th>2016-08-11</th>\n",
       "      <td>10</td>\n",
       "    </tr>\n",
       "    <tr>\n",
       "      <th>2016-08-12</th>\n",
       "      <td>11</td>\n",
       "    </tr>\n",
       "    <tr>\n",
       "      <th>2016-08-13</th>\n",
       "      <td>12</td>\n",
       "    </tr>\n",
       "    <tr>\n",
       "      <th>2016-08-14</th>\n",
       "      <td>13</td>\n",
       "    </tr>\n",
       "  </tbody>\n",
       "</table>\n",
       "</div>"
      ],
      "text/plain": [
       "            num\n",
       "2016-08-10    9\n",
       "2016-08-11   10\n",
       "2016-08-12   11\n",
       "2016-08-13   12\n",
       "2016-08-14   13"
      ]
     },
     "execution_count": 16,
     "metadata": {},
     "output_type": "execute_result"
    }
   ],
   "source": [
    "df['2016-08-10':'2016-08-14']"
   ]
  },
  {
   "cell_type": "code",
   "execution_count": 19,
   "metadata": {
    "collapsed": false
   },
   "outputs": [
    {
     "data": {
      "text/plain": [
       "array([ 0.76619589,  1.36298809,  0.4311746 ,  0.37317681, -1.33797594,\n",
       "        1.53134135,  0.79778313,  0.89828809, -0.02660866,  0.64776928])"
      ]
     },
     "execution_count": 19,
     "metadata": {},
     "output_type": "execute_result"
    }
   ],
   "source": [
    "count = 24 * 60 * 60 * 5\n",
    "values = np.random.randn(count)\n",
    "values[:10]"
   ]
  },
  {
   "cell_type": "code",
   "execution_count": 25,
   "metadata": {
    "collapsed": false
   },
   "outputs": [
    {
     "data": {
      "text/plain": [
       "2016-01-01 00:00:00    0.766196\n",
       "2016-01-01 00:00:01    1.362988\n",
       "2016-01-01 00:00:02    0.431175\n",
       "2016-01-01 00:00:03    0.373177\n",
       "2016-01-01 00:00:04   -1.337976\n",
       "2016-01-01 00:00:05    1.531341\n",
       "2016-01-01 00:00:06    0.797783\n",
       "2016-01-01 00:00:07    0.898288\n",
       "2016-01-01 00:00:08   -0.026609\n",
       "2016-01-01 00:00:09    0.647769\n",
       "2016-01-01 00:00:10    0.316023\n",
       "2016-01-01 00:00:11    0.720983\n",
       "2016-01-01 00:00:12    0.000995\n",
       "2016-01-01 00:00:13    0.436259\n",
       "2016-01-01 00:00:14    0.576372\n",
       "2016-01-01 00:00:15   -0.421924\n",
       "2016-01-01 00:00:16   -0.237701\n",
       "2016-01-01 00:00:17    0.077963\n",
       "2016-01-01 00:00:18   -0.034927\n",
       "2016-01-01 00:00:19    1.924303\n",
       "2016-01-01 00:00:20    0.438325\n",
       "2016-01-01 00:00:21    2.233047\n",
       "2016-01-01 00:00:22   -0.675481\n",
       "2016-01-01 00:00:23    0.523516\n",
       "2016-01-01 00:00:24   -0.121017\n",
       "2016-01-01 00:00:25   -0.742145\n",
       "2016-01-01 00:00:26   -1.351919\n",
       "2016-01-01 00:00:27    0.413218\n",
       "2016-01-01 00:00:28   -0.051890\n",
       "2016-01-01 00:00:29   -0.860283\n",
       "                         ...   \n",
       "2016-01-01 00:01:10   -0.608410\n",
       "2016-01-01 00:01:11    0.681964\n",
       "2016-01-01 00:01:12   -0.872598\n",
       "2016-01-01 00:01:13   -0.650979\n",
       "2016-01-01 00:01:14    0.166567\n",
       "2016-01-01 00:01:15    0.160938\n",
       "2016-01-01 00:01:16    0.564542\n",
       "2016-01-01 00:01:17   -0.670338\n",
       "2016-01-01 00:01:18    0.891023\n",
       "2016-01-01 00:01:19    1.342197\n",
       "2016-01-01 00:01:20    1.542196\n",
       "2016-01-01 00:01:21   -0.968688\n",
       "2016-01-01 00:01:22    0.318823\n",
       "2016-01-01 00:01:23    0.499035\n",
       "2016-01-01 00:01:24   -0.596447\n",
       "2016-01-01 00:01:25    2.368598\n",
       "2016-01-01 00:01:26   -0.442332\n",
       "2016-01-01 00:01:27   -1.064500\n",
       "2016-01-01 00:01:28    1.263910\n",
       "2016-01-01 00:01:29   -0.622679\n",
       "2016-01-01 00:01:30   -1.666683\n",
       "2016-01-01 00:01:31   -0.072352\n",
       "2016-01-01 00:01:32   -1.398343\n",
       "2016-01-01 00:01:33   -0.214940\n",
       "2016-01-01 00:01:34    0.253155\n",
       "2016-01-01 00:01:35    0.739972\n",
       "2016-01-01 00:01:36   -0.470875\n",
       "2016-01-01 00:01:37   -1.005318\n",
       "2016-01-01 00:01:38    0.068085\n",
       "2016-01-01 00:01:39    0.787608\n",
       "Freq: S, dtype: float64"
      ]
     },
     "execution_count": 25,
     "metadata": {},
     "output_type": "execute_result"
    }
   ],
   "source": [
    "walk = pd.Series(values,index=pd.date_range('2016-01-01',periods=count,freq='s'))\n",
    "walk[:100]"
   ]
  },
  {
   "cell_type": "code",
   "execution_count": 27,
   "metadata": {
    "collapsed": false
   },
   "outputs": [
    {
     "data": {
      "text/plain": [
       "2016-01-01 00:00:00    0.766196\n",
       "2016-01-01 00:01:00   -0.563402\n",
       "2016-01-01 00:02:00   -1.063039\n",
       "2016-01-01 00:03:00    0.181905\n",
       "2016-01-01 00:04:00   -0.044499\n",
       "Freq: T, dtype: float64"
      ]
     },
     "execution_count": 27,
     "metadata": {},
     "output_type": "execute_result"
    }
   ],
   "source": [
    "wminutes = walk.asfreq('1Min')[:5]\n",
    "wminutes"
   ]
  },
  {
   "cell_type": "code",
   "execution_count": 28,
   "metadata": {
    "collapsed": false
   },
   "outputs": [
    {
     "data": {
      "text/plain": [
       "2016-01-01 00:00:00    0.766196\n",
       "2016-01-01 00:00:01         NaN\n",
       "2016-01-01 00:00:02         NaN\n",
       "2016-01-01 00:00:03         NaN\n",
       "2016-01-01 00:00:04         NaN\n",
       "2016-01-01 00:00:05         NaN\n",
       "2016-01-01 00:00:06         NaN\n",
       "2016-01-01 00:00:07         NaN\n",
       "2016-01-01 00:00:08         NaN\n",
       "2016-01-01 00:00:09         NaN\n",
       "2016-01-01 00:00:10         NaN\n",
       "2016-01-01 00:00:11         NaN\n",
       "2016-01-01 00:00:12         NaN\n",
       "2016-01-01 00:00:13         NaN\n",
       "2016-01-01 00:00:14         NaN\n",
       "2016-01-01 00:00:15         NaN\n",
       "2016-01-01 00:00:16         NaN\n",
       "2016-01-01 00:00:17         NaN\n",
       "2016-01-01 00:00:18         NaN\n",
       "2016-01-01 00:00:19         NaN\n",
       "2016-01-01 00:00:20         NaN\n",
       "2016-01-01 00:00:21         NaN\n",
       "2016-01-01 00:00:22         NaN\n",
       "2016-01-01 00:00:23         NaN\n",
       "2016-01-01 00:00:24         NaN\n",
       "2016-01-01 00:00:25         NaN\n",
       "2016-01-01 00:00:26         NaN\n",
       "2016-01-01 00:00:27         NaN\n",
       "2016-01-01 00:00:28         NaN\n",
       "2016-01-01 00:00:29         NaN\n",
       "                         ...   \n",
       "2016-01-01 00:03:31         NaN\n",
       "2016-01-01 00:03:32         NaN\n",
       "2016-01-01 00:03:33         NaN\n",
       "2016-01-01 00:03:34         NaN\n",
       "2016-01-01 00:03:35         NaN\n",
       "2016-01-01 00:03:36         NaN\n",
       "2016-01-01 00:03:37         NaN\n",
       "2016-01-01 00:03:38         NaN\n",
       "2016-01-01 00:03:39         NaN\n",
       "2016-01-01 00:03:40         NaN\n",
       "2016-01-01 00:03:41         NaN\n",
       "2016-01-01 00:03:42         NaN\n",
       "2016-01-01 00:03:43         NaN\n",
       "2016-01-01 00:03:44         NaN\n",
       "2016-01-01 00:03:45         NaN\n",
       "2016-01-01 00:03:46         NaN\n",
       "2016-01-01 00:03:47         NaN\n",
       "2016-01-01 00:03:48         NaN\n",
       "2016-01-01 00:03:49         NaN\n",
       "2016-01-01 00:03:50         NaN\n",
       "2016-01-01 00:03:51         NaN\n",
       "2016-01-01 00:03:52         NaN\n",
       "2016-01-01 00:03:53         NaN\n",
       "2016-01-01 00:03:54         NaN\n",
       "2016-01-01 00:03:55         NaN\n",
       "2016-01-01 00:03:56         NaN\n",
       "2016-01-01 00:03:57         NaN\n",
       "2016-01-01 00:03:58         NaN\n",
       "2016-01-01 00:03:59         NaN\n",
       "2016-01-01 00:04:00   -0.044499\n",
       "Freq: S, dtype: float64"
      ]
     },
     "execution_count": 28,
     "metadata": {},
     "output_type": "execute_result"
    }
   ],
   "source": [
    "wminutes.asfreq('S')"
   ]
  },
  {
   "cell_type": "code",
   "execution_count": null,
   "metadata": {
    "collapsed": true
   },
   "outputs": [],
   "source": []
  }
 ],
 "metadata": {
  "anaconda-cloud": {},
  "kernelspec": {
   "display_name": "Python [default]",
   "language": "python",
   "name": "python3"
  },
  "language_info": {
   "codemirror_mode": {
    "name": "ipython",
    "version": 3
   },
   "file_extension": ".py",
   "mimetype": "text/x-python",
   "name": "python",
   "nbconvert_exporter": "python",
   "pygments_lexer": "ipython3",
   "version": "3.5.2"
  }
 },
 "nbformat": 4,
 "nbformat_minor": 1
}
