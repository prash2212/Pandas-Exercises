{
 "cells": [
  {
   "cell_type": "code",
   "execution_count": 7,
   "metadata": {
    "collapsed": false
   },
   "outputs": [
    {
     "name": "stdout",
     "output_type": "stream",
     "text": [
      "   column1\n",
      "0        1\n",
      "1        2\n",
      "2        3\n",
      "     0\n",
      "a  100\n",
      "b  200\n"
     ]
    }
   ],
   "source": [
    "import pandas as pd\n",
    "df = pd.DataFrame.from_items([('column1',[1,2,3])])\n",
    "dfd = pd.DataFrame.from_dict({'a':100, 'b':200},orient='index')\n",
    "print (df)\n",
    "print (dfd)"
   ]
  },
  {
   "cell_type": "code",
   "execution_count": 1,
   "metadata": {
    "collapsed": false
   },
   "outputs": [
    {
     "data": {
      "text/plain": [
       "'/Users/prash/Google Drive/iMac/Python/Pandas - '"
      ]
     },
     "execution_count": 1,
     "metadata": {},
     "output_type": "execute_result"
    }
   ],
   "source": [
    "pwd\n"
   ]
  },
  {
   "cell_type": "code",
   "execution_count": 2,
   "metadata": {
    "collapsed": false
   },
   "outputs": [
    {
     "ename": "SyntaxError",
     "evalue": "invalid syntax (<ipython-input-2-b5a48510087e>, line 1)",
     "output_type": "error",
     "traceback": [
      "\u001b[0;36m  File \u001b[0;32m\"<ipython-input-2-b5a48510087e>\"\u001b[0;36m, line \u001b[0;32m1\u001b[0m\n\u001b[0;31m    cd ..\u001b[0m\n\u001b[0m        ^\u001b[0m\n\u001b[0;31mSyntaxError\u001b[0m\u001b[0;31m:\u001b[0m invalid syntax\n"
     ]
    }
   ],
   "source": [
    "cd ..\n",
    "ls"
   ]
  },
  {
   "cell_type": "code",
   "execution_count": 3,
   "metadata": {
    "collapsed": false
   },
   "outputs": [
    {
     "name": "stdout",
     "output_type": "stream",
     "text": [
      "/Users/prash/Google Drive/iMac/Python\n"
     ]
    }
   ],
   "source": [
    "cd ..\n"
   ]
  },
  {
   "cell_type": "code",
   "execution_count": 4,
   "metadata": {
    "collapsed": false
   },
   "outputs": [
    {
     "name": "stdout",
     "output_type": "stream",
     "text": [
      "Addition.py       \u001b[34mPandas - \u001b[m\u001b[m/        callback.py       inherit.py\r\n",
      "BoundUnbound.py   \u001b[34mSecond Iteration\u001b[m\u001b[m/ className.py\r\n",
      "Iterations.py     \u001b[34mThird Iteration\u001b[m\u001b[m/  firstclass.py\r\n"
     ]
    }
   ],
   "source": [
    "ls"
   ]
  },
  {
   "cell_type": "code",
   "execution_count": 5,
   "metadata": {
    "collapsed": false
   },
   "outputs": [
    {
     "name": "stdout",
     "output_type": "stream",
     "text": [
      "/Users/prash/Google Drive/iMac\n"
     ]
    }
   ],
   "source": [
    "cd ..\n"
   ]
  },
  {
   "cell_type": "code",
   "execution_count": 6,
   "metadata": {
    "collapsed": false
   },
   "outputs": [
    {
     "name": "stdout",
     "output_type": "stream",
     "text": [
      "12 Hillview Drive - mortgage calculator.xlsx\r\n",
      "Amendment No 6 CPSA TR Draft 2-12-15 - Maria.docx\r\n",
      "Backup of Nasdaq Market Intelligence Desk - News Letters.docx\r\n",
      "\u001b[34mDefensive Driving\u001b[m\u001b[m/\r\n",
      "Home Language Questionaire.pdf\r\n",
      "\u001b[34mHunt\u001b[m\u001b[m/\r\n",
      "\u001b[34mIndia Travel 2017\u001b[m\u001b[m/\r\n",
      "India ticket booking.xlsx\r\n",
      "Lill Driving record.pdf\r\n",
      "\u001b[34mMachine Learning\u001b[m\u001b[m/\r\n",
      "NY-Defensive Driving.pdf\r\n",
      "Nasdaq Market Intelligence Desk - News Letters.docx\r\n",
      "New York Accident Prevention Course - GEICO.pdf\r\n",
      "Non Availability of Birth Certificate.docx\r\n",
      "NriApplyOnline.pdf\r\n",
      "\u001b[34mPython\u001b[m\u001b[m/\r\n",
      "STAR Registration.pdf\r\n",
      "The Home Depot - Order Confirmation.pdf\r\n",
      "\u001b[34mVihan and Ishan\u001b[m\u001b[m/\r\n",
      "Village of Pleasantville - Water Bill.pdf\r\n",
      "\u001b[34mxmls\u001b[m\u001b[m/\r\n"
     ]
    }
   ],
   "source": [
    "ls\n"
   ]
  },
  {
   "cell_type": "code",
   "execution_count": 7,
   "metadata": {
    "collapsed": false
   },
   "outputs": [
    {
     "name": "stdout",
     "output_type": "stream",
     "text": [
      "/Users/prash/Google Drive/iMac/Machine Learning\n"
     ]
    }
   ],
   "source": [
    "cd Machine\\ Learning/\n"
   ]
  },
  {
   "cell_type": "code",
   "execution_count": 8,
   "metadata": {
    "collapsed": false
   },
   "outputs": [
    {
     "name": "stdout",
     "output_type": "stream",
     "text": [
      "\u001b[34mBooks\u001b[m\u001b[m/\r\n",
      "Coursera Certificate.pdf\r\n",
      "\u001b[34mPython\u001b[m\u001b[m/\r\n",
      "\u001b[34mSlides\u001b[m\u001b[m/\r\n",
      "\u001b[34mVideos\u001b[m\u001b[m/\r\n",
      "\u001b[34mmachine-learning-ex1\u001b[m\u001b[m/\r\n",
      "machine-learning-ex1.zip\r\n",
      "\u001b[34mmachine-learning-ex2 2\u001b[m\u001b[m/\r\n",
      "machine-learning-ex2.zip\r\n",
      "\u001b[34mmachine-learning-ex3\u001b[m\u001b[m/\r\n",
      "\u001b[34mmachine-learning-ex3 2\u001b[m\u001b[m/\r\n",
      "machine-learning-ex3.zip\r\n",
      "\u001b[34mmachine-learning-ex4\u001b[m\u001b[m/\r\n",
      "machine-learning-ex4.zip\r\n",
      "\u001b[34mmachine-learning-ex5\u001b[m\u001b[m/\r\n",
      "machine-learning-ex5.zip\r\n",
      "\u001b[34mmachine-learning-ex6\u001b[m\u001b[m/\r\n",
      "machine-learning-ex6.zip\r\n",
      "\u001b[34mmachine-learning-ex7\u001b[m\u001b[m/\r\n",
      "machine-learning-ex7.zip\r\n",
      "\u001b[34mmachine-learning-ex8\u001b[m\u001b[m/\r\n",
      "machine-learning-ex8.zip\r\n",
      "\u001b[31munderstanding-machine-learning-theory-algorithms.pdf\u001b[m\u001b[m*\r\n"
     ]
    }
   ],
   "source": [
    "ls\n"
   ]
  },
  {
   "cell_type": "code",
   "execution_count": 9,
   "metadata": {
    "collapsed": false
   },
   "outputs": [
    {
     "name": "stdout",
     "output_type": "stream",
     "text": [
      "/Users/prash/Google Drive/iMac/Machine Learning/Python\n"
     ]
    }
   ],
   "source": [
    "cd Python"
   ]
  },
  {
   "cell_type": "code",
   "execution_count": 10,
   "metadata": {
    "collapsed": false
   },
   "outputs": [
    {
     "name": "stdout",
     "output_type": "stream",
     "text": [
      "linear_reg.py  load_iris.py\r\n"
     ]
    }
   ],
   "source": [
    "ls"
   ]
  },
  {
   "cell_type": "code",
   "execution_count": 11,
   "metadata": {
    "collapsed": false
   },
   "outputs": [
    {
     "name": "stdout",
     "output_type": "stream",
     "text": [
      "/Users/prash/Google Drive/iMac\n"
     ]
    }
   ],
   "source": [
    "cd ../.."
   ]
  },
  {
   "cell_type": "code",
   "execution_count": 12,
   "metadata": {
    "collapsed": false
   },
   "outputs": [
    {
     "name": "stdout",
     "output_type": "stream",
     "text": [
      "12 Hillview Drive - mortgage calculator.xlsx\r\n",
      "Amendment No 6 CPSA TR Draft 2-12-15 - Maria.docx\r\n",
      "Backup of Nasdaq Market Intelligence Desk - News Letters.docx\r\n",
      "\u001b[34mDefensive Driving\u001b[m\u001b[m/\r\n",
      "Home Language Questionaire.pdf\r\n",
      "\u001b[34mHunt\u001b[m\u001b[m/\r\n",
      "\u001b[34mIndia Travel 2017\u001b[m\u001b[m/\r\n",
      "India ticket booking.xlsx\r\n",
      "Lill Driving record.pdf\r\n",
      "\u001b[34mMachine Learning\u001b[m\u001b[m/\r\n",
      "NY-Defensive Driving.pdf\r\n",
      "Nasdaq Market Intelligence Desk - News Letters.docx\r\n",
      "New York Accident Prevention Course - GEICO.pdf\r\n",
      "Non Availability of Birth Certificate.docx\r\n",
      "NriApplyOnline.pdf\r\n",
      "\u001b[34mPython\u001b[m\u001b[m/\r\n",
      "STAR Registration.pdf\r\n",
      "The Home Depot - Order Confirmation.pdf\r\n",
      "\u001b[34mVihan and Ishan\u001b[m\u001b[m/\r\n",
      "Village of Pleasantville - Water Bill.pdf\r\n",
      "\u001b[34mxmls\u001b[m\u001b[m/\r\n"
     ]
    }
   ],
   "source": [
    "ls\n"
   ]
  },
  {
   "cell_type": "code",
   "execution_count": 13,
   "metadata": {
    "collapsed": false
   },
   "outputs": [
    {
     "name": "stdout",
     "output_type": "stream",
     "text": [
      "12 Hillview Drive - mortgage calculator.xlsx\r\n",
      "Amendment No 6 CPSA TR Draft 2-12-15 - Maria.docx\r\n",
      "Backup of Nasdaq Market Intelligence Desk - News Letters.docx\r\n",
      "\u001b[34mDefensive Driving\u001b[m\u001b[m/\r\n",
      "Home Language Questionaire.pdf\r\n",
      "\u001b[34mHunt\u001b[m\u001b[m/\r\n",
      "\u001b[34mIndia Travel 2017\u001b[m\u001b[m/\r\n",
      "India ticket booking.xlsx\r\n",
      "Lill Driving record.pdf\r\n",
      "\u001b[34mMachine Learning\u001b[m\u001b[m/\r\n",
      "NY-Defensive Driving.pdf\r\n",
      "Nasdaq Market Intelligence Desk - News Letters.docx\r\n",
      "New York Accident Prevention Course - GEICO.pdf\r\n",
      "Non Availability of Birth Certificate.docx\r\n",
      "NriApplyOnline.pdf\r\n",
      "\u001b[34mPython\u001b[m\u001b[m/\r\n",
      "STAR Registration.pdf\r\n",
      "The Home Depot - Order Confirmation.pdf\r\n",
      "\u001b[34mVihan and Ishan\u001b[m\u001b[m/\r\n",
      "Village of Pleasantville - Water Bill.pdf\r\n",
      "\u001b[34mxmls\u001b[m\u001b[m/\r\n"
     ]
    }
   ],
   "source": [
    "ls\n"
   ]
  },
  {
   "cell_type": "code",
   "execution_count": 1,
   "metadata": {
    "collapsed": false
   },
   "outputs": [
    {
     "data": {
      "text/plain": [
       "'/Users/prash/Google Drive/iMac/Machine Learning/Python/Pandas'"
      ]
     },
     "execution_count": 1,
     "metadata": {},
     "output_type": "execute_result"
    }
   ],
   "source": [
    "pwd"
   ]
  },
  {
   "cell_type": "code",
   "execution_count": 12,
   "metadata": {
    "collapsed": false
   },
   "outputs": [],
   "source": [
    "import pandas as pd\n",
    "import numpy as np\n",
    "from pandas import Series, DataFrame\n"
   ]
  },
  {
   "cell_type": "code",
   "execution_count": 102,
   "metadata": {
    "collapsed": false
   },
   "outputs": [
    {
     "data": {
      "text/html": [
       "<div>\n",
       "<table border=\"1\" class=\"dataframe\">\n",
       "  <thead>\n",
       "    <tr style=\"text-align: right;\">\n",
       "      <th></th>\n",
       "      <th>a</th>\n",
       "      <th>c</th>\n",
       "      <th>h</th>\n",
       "    </tr>\n",
       "    <tr>\n",
       "      <th>dated</th>\n",
       "      <th></th>\n",
       "      <th></th>\n",
       "      <th></th>\n",
       "    </tr>\n",
       "  </thead>\n",
       "  <tbody>\n",
       "    <tr>\n",
       "      <th>19-Sep-86</th>\n",
       "      <td>87.04</td>\n",
       "      <td>232.21</td>\n",
       "      <td>23.65</td>\n",
       "    </tr>\n",
       "    <tr>\n",
       "      <th>22-Sep-86</th>\n",
       "      <td>87.55</td>\n",
       "      <td>234.93</td>\n",
       "      <td>22.63</td>\n",
       "    </tr>\n",
       "    <tr>\n",
       "      <th>23-Sep-86</th>\n",
       "      <td>87.49</td>\n",
       "      <td>235.67</td>\n",
       "      <td>22.95</td>\n",
       "    </tr>\n",
       "    <tr>\n",
       "      <th>24-Sep-86</th>\n",
       "      <td>87.68</td>\n",
       "      <td>236.28</td>\n",
       "      <td>23.11</td>\n",
       "    </tr>\n",
       "    <tr>\n",
       "      <th>25-Sep-86</th>\n",
       "      <td>86.86</td>\n",
       "      <td>231.83</td>\n",
       "      <td>24.54</td>\n",
       "    </tr>\n",
       "    <tr>\n",
       "      <th>26-Sep-86</th>\n",
       "      <td>86.99</td>\n",
       "      <td>232.23</td>\n",
       "      <td>24.62</td>\n",
       "    </tr>\n",
       "    <tr>\n",
       "      <th>29-Sep-86</th>\n",
       "      <td>86.47</td>\n",
       "      <td>229.91</td>\n",
       "      <td>24.62</td>\n",
       "    </tr>\n",
       "    <tr>\n",
       "      <th>30-Sep-86</th>\n",
       "      <td>86.94</td>\n",
       "      <td>231.32</td>\n",
       "      <td>24.76</td>\n",
       "    </tr>\n",
       "    <tr>\n",
       "      <th>1-Oct-86</th>\n",
       "      <td>87.51</td>\n",
       "      <td>233.60</td>\n",
       "      <td>24.88</td>\n",
       "    </tr>\n",
       "    <tr>\n",
       "      <th>2-Oct-86</th>\n",
       "      <td>87.62</td>\n",
       "      <td>233.92</td>\n",
       "      <td>24.87</td>\n",
       "    </tr>\n",
       "    <tr>\n",
       "      <th>3-Oct-86</th>\n",
       "      <td>87.72</td>\n",
       "      <td>233.71</td>\n",
       "      <td>25.92</td>\n",
       "    </tr>\n",
       "    <tr>\n",
       "      <th>6-Oct-86</th>\n",
       "      <td>88.01</td>\n",
       "      <td>234.78</td>\n",
       "      <td>25.11</td>\n",
       "    </tr>\n",
       "    <tr>\n",
       "      <th>7-Oct-86</th>\n",
       "      <td>87.96</td>\n",
       "      <td>234.41</td>\n",
       "      <td>25.65</td>\n",
       "    </tr>\n",
       "    <tr>\n",
       "      <th>8-Oct-86</th>\n",
       "      <td>88.55</td>\n",
       "      <td>236.68</td>\n",
       "      <td>24.99</td>\n",
       "    </tr>\n",
       "    <tr>\n",
       "      <th>9-Oct-86</th>\n",
       "      <td>88.59</td>\n",
       "      <td>235.85</td>\n",
       "      <td>25.46</td>\n",
       "    </tr>\n",
       "    <tr>\n",
       "      <th>10-Oct-86</th>\n",
       "      <td>88.52</td>\n",
       "      <td>235.48</td>\n",
       "      <td>24.3</td>\n",
       "    </tr>\n",
       "    <tr>\n",
       "      <th>13-Oct-86</th>\n",
       "      <td>88.62</td>\n",
       "      <td>235.91</td>\n",
       "      <td>24.79</td>\n",
       "    </tr>\n",
       "    <tr>\n",
       "      <th>14-Oct-86</th>\n",
       "      <td>88.89</td>\n",
       "      <td>235.37</td>\n",
       "      <td>24.04</td>\n",
       "    </tr>\n",
       "    <tr>\n",
       "      <th>15-Oct-86</th>\n",
       "      <td>89.26</td>\n",
       "      <td>238.80</td>\n",
       "      <td>22.06</td>\n",
       "    </tr>\n",
       "    <tr>\n",
       "      <th>16-Oct-86</th>\n",
       "      <td>89.57</td>\n",
       "      <td>239.53</td>\n",
       "      <td>22.09</td>\n",
       "    </tr>\n",
       "    <tr>\n",
       "      <th>17-Oct-86</th>\n",
       "      <td>89.38</td>\n",
       "      <td>238.84</td>\n",
       "      <td>21.16</td>\n",
       "    </tr>\n",
       "    <tr>\n",
       "      <th>20-Oct-86</th>\n",
       "      <td>88.63</td>\n",
       "      <td>235.97</td>\n",
       "      <td>21.21</td>\n",
       "    </tr>\n",
       "    <tr>\n",
       "      <th>21-Oct-86</th>\n",
       "      <td>88.65</td>\n",
       "      <td>235.88</td>\n",
       "      <td>20.81</td>\n",
       "    </tr>\n",
       "    <tr>\n",
       "      <th>22-Oct-86</th>\n",
       "      <td>88.80</td>\n",
       "      <td>236.26</td>\n",
       "      <td>20.64</td>\n",
       "    </tr>\n",
       "    <tr>\n",
       "      <th>23-Oct-86</th>\n",
       "      <td>89.41</td>\n",
       "      <td>239.28</td>\n",
       "      <td>20.54</td>\n",
       "    </tr>\n",
       "    <tr>\n",
       "      <th>24-Oct-86</th>\n",
       "      <td>89.44</td>\n",
       "      <td>238.26</td>\n",
       "      <td>20.34</td>\n",
       "    </tr>\n",
       "    <tr>\n",
       "      <th>27-Oct-86</th>\n",
       "      <td>89.50</td>\n",
       "      <td>238.77</td>\n",
       "      <td>19.85</td>\n",
       "    </tr>\n",
       "    <tr>\n",
       "      <th>28-Oct-86</th>\n",
       "      <td>89.71</td>\n",
       "      <td>239.26</td>\n",
       "      <td>19.9</td>\n",
       "    </tr>\n",
       "    <tr>\n",
       "      <th>29-Oct-86</th>\n",
       "      <td>89.98</td>\n",
       "      <td>240.94</td>\n",
       "      <td>20.2</td>\n",
       "    </tr>\n",
       "    <tr>\n",
       "      <th>30-Oct-86</th>\n",
       "      <td>90.52</td>\n",
       "      <td>243.71</td>\n",
       "      <td>20.01</td>\n",
       "    </tr>\n",
       "    <tr>\n",
       "      <th>...</th>\n",
       "      <td>...</td>\n",
       "      <td>...</td>\n",
       "      <td>...</td>\n",
       "    </tr>\n",
       "    <tr>\n",
       "      <th>19-May-16</th>\n",
       "      <td>1128.57</td>\n",
       "      <td>2040.04</td>\n",
       "      <td>16.35</td>\n",
       "    </tr>\n",
       "    <tr>\n",
       "      <th>20-May-16</th>\n",
       "      <td>1136.98</td>\n",
       "      <td>2052.32</td>\n",
       "      <td>15.26</td>\n",
       "    </tr>\n",
       "    <tr>\n",
       "      <th>23-May-16</th>\n",
       "      <td>1136.38</td>\n",
       "      <td>2048.04</td>\n",
       "      <td>15.02</td>\n",
       "    </tr>\n",
       "    <tr>\n",
       "      <th>24-May-16</th>\n",
       "      <td>1144.50</td>\n",
       "      <td>2076.06</td>\n",
       "      <td>13.69</td>\n",
       "    </tr>\n",
       "    <tr>\n",
       "      <th>25-May-16</th>\n",
       "      <td>1147.70</td>\n",
       "      <td>2090.54</td>\n",
       "      <td>12.77</td>\n",
       "    </tr>\n",
       "    <tr>\n",
       "      <th>26-May-16</th>\n",
       "      <td>1148.07</td>\n",
       "      <td>2090.10</td>\n",
       "      <td>12.7</td>\n",
       "    </tr>\n",
       "    <tr>\n",
       "      <th>27-May-16</th>\n",
       "      <td>1150.11</td>\n",
       "      <td>2099.06</td>\n",
       "      <td>12.2</td>\n",
       "    </tr>\n",
       "    <tr>\n",
       "      <th>31-May-16</th>\n",
       "      <td>1150.23</td>\n",
       "      <td>2096.96</td>\n",
       "      <td>13.28</td>\n",
       "    </tr>\n",
       "    <tr>\n",
       "      <th>1-Jun-16</th>\n",
       "      <td>1150.65</td>\n",
       "      <td>2099.33</td>\n",
       "      <td>13.38</td>\n",
       "    </tr>\n",
       "    <tr>\n",
       "      <th>2-Jun-16</th>\n",
       "      <td>1151.95</td>\n",
       "      <td>2105.26</td>\n",
       "      <td>12.72</td>\n",
       "    </tr>\n",
       "    <tr>\n",
       "      <th>3-Jun-16</th>\n",
       "      <td>1152.15</td>\n",
       "      <td>2099.13</td>\n",
       "      <td>12.59</td>\n",
       "    </tr>\n",
       "    <tr>\n",
       "      <th>6-Jun-16</th>\n",
       "      <td>1153.04</td>\n",
       "      <td>2109.41</td>\n",
       "      <td>12.64</td>\n",
       "    </tr>\n",
       "    <tr>\n",
       "      <th>7-Jun-16</th>\n",
       "      <td>1153.19</td>\n",
       "      <td>2112.13</td>\n",
       "      <td>13.04</td>\n",
       "    </tr>\n",
       "    <tr>\n",
       "      <th>8-Jun-16</th>\n",
       "      <td>1154.13</td>\n",
       "      <td>2119.12</td>\n",
       "      <td>12.91</td>\n",
       "    </tr>\n",
       "    <tr>\n",
       "      <th>9-Jun-16</th>\n",
       "      <td>1153.93</td>\n",
       "      <td>2115.48</td>\n",
       "      <td>13.68</td>\n",
       "    </tr>\n",
       "    <tr>\n",
       "      <th>10-Jun-16</th>\n",
       "      <td>1152.59</td>\n",
       "      <td>2096.07</td>\n",
       "      <td>15.54</td>\n",
       "    </tr>\n",
       "    <tr>\n",
       "      <th>13-Jun-16</th>\n",
       "      <td>1151.08</td>\n",
       "      <td>2079.06</td>\n",
       "      <td>18.84</td>\n",
       "    </tr>\n",
       "    <tr>\n",
       "      <th>14-Jun-16</th>\n",
       "      <td>1152.12</td>\n",
       "      <td>2075.32</td>\n",
       "      <td>18.38</td>\n",
       "    </tr>\n",
       "    <tr>\n",
       "      <th>15-Jun-16</th>\n",
       "      <td>1152.90</td>\n",
       "      <td>2071.50</td>\n",
       "      <td>18.87</td>\n",
       "    </tr>\n",
       "    <tr>\n",
       "      <th>16-Jun-16</th>\n",
       "      <td>1154.32</td>\n",
       "      <td>2077.99</td>\n",
       "      <td>20.3</td>\n",
       "    </tr>\n",
       "    <tr>\n",
       "      <th>17-Jun-16</th>\n",
       "      <td>1149.43</td>\n",
       "      <td>2071.22</td>\n",
       "      <td>18.63</td>\n",
       "    </tr>\n",
       "    <tr>\n",
       "      <th>20-Jun-16</th>\n",
       "      <td>1153.78</td>\n",
       "      <td>2083.25</td>\n",
       "      <td>17.09</td>\n",
       "    </tr>\n",
       "    <tr>\n",
       "      <th>21-Jun-16</th>\n",
       "      <td>1154.99</td>\n",
       "      <td>2088.90</td>\n",
       "      <td>17.41</td>\n",
       "    </tr>\n",
       "    <tr>\n",
       "      <th>22-Jun-16</th>\n",
       "      <td>1151.89</td>\n",
       "      <td>2085.45</td>\n",
       "      <td>20.12</td>\n",
       "    </tr>\n",
       "    <tr>\n",
       "      <th>23-Jun-16</th>\n",
       "      <td>1160.90</td>\n",
       "      <td>2113.32</td>\n",
       "      <td>15.92</td>\n",
       "    </tr>\n",
       "    <tr>\n",
       "      <th>24-Jun-16</th>\n",
       "      <td>1139.51</td>\n",
       "      <td>2037.41</td>\n",
       "      <td>23.27</td>\n",
       "    </tr>\n",
       "    <tr>\n",
       "      <th>27-Jun-16</th>\n",
       "      <td>1126.91</td>\n",
       "      <td>2000.54</td>\n",
       "      <td>22.01</td>\n",
       "    </tr>\n",
       "    <tr>\n",
       "      <th>28-Jun-16</th>\n",
       "      <td>1144.47</td>\n",
       "      <td>2036.09</td>\n",
       "      <td>17.91</td>\n",
       "    </tr>\n",
       "    <tr>\n",
       "      <th>29-Jun-16</th>\n",
       "      <td>1157.01</td>\n",
       "      <td>2070.77</td>\n",
       "      <td>15.95</td>\n",
       "    </tr>\n",
       "    <tr>\n",
       "      <th>30-Jun-16</th>\n",
       "      <td>1163.51</td>\n",
       "      <td>2098.86</td>\n",
       "      <td>14.77</td>\n",
       "    </tr>\n",
       "  </tbody>\n",
       "</table>\n",
       "<p>7508 rows × 3 columns</p>\n",
       "</div>"
      ],
      "text/plain": [
       "                 a        c      h\n",
       "dated                             \n",
       "19-Sep-86    87.04   232.21  23.65\n",
       "22-Sep-86    87.55   234.93  22.63\n",
       "23-Sep-86    87.49   235.67  22.95\n",
       "24-Sep-86    87.68   236.28  23.11\n",
       "25-Sep-86    86.86   231.83  24.54\n",
       "26-Sep-86    86.99   232.23  24.62\n",
       "29-Sep-86    86.47   229.91  24.62\n",
       "30-Sep-86    86.94   231.32  24.76\n",
       "1-Oct-86     87.51   233.60  24.88\n",
       "2-Oct-86     87.62   233.92  24.87\n",
       "3-Oct-86     87.72   233.71  25.92\n",
       "6-Oct-86     88.01   234.78  25.11\n",
       "7-Oct-86     87.96   234.41  25.65\n",
       "8-Oct-86     88.55   236.68  24.99\n",
       "9-Oct-86     88.59   235.85  25.46\n",
       "10-Oct-86    88.52   235.48   24.3\n",
       "13-Oct-86    88.62   235.91  24.79\n",
       "14-Oct-86    88.89   235.37  24.04\n",
       "15-Oct-86    89.26   238.80  22.06\n",
       "16-Oct-86    89.57   239.53  22.09\n",
       "17-Oct-86    89.38   238.84  21.16\n",
       "20-Oct-86    88.63   235.97  21.21\n",
       "21-Oct-86    88.65   235.88  20.81\n",
       "22-Oct-86    88.80   236.26  20.64\n",
       "23-Oct-86    89.41   239.28  20.54\n",
       "24-Oct-86    89.44   238.26  20.34\n",
       "27-Oct-86    89.50   238.77  19.85\n",
       "28-Oct-86    89.71   239.26   19.9\n",
       "29-Oct-86    89.98   240.94   20.2\n",
       "30-Oct-86    90.52   243.71  20.01\n",
       "...            ...      ...    ...\n",
       "19-May-16  1128.57  2040.04  16.35\n",
       "20-May-16  1136.98  2052.32  15.26\n",
       "23-May-16  1136.38  2048.04  15.02\n",
       "24-May-16  1144.50  2076.06  13.69\n",
       "25-May-16  1147.70  2090.54  12.77\n",
       "26-May-16  1148.07  2090.10   12.7\n",
       "27-May-16  1150.11  2099.06   12.2\n",
       "31-May-16  1150.23  2096.96  13.28\n",
       "1-Jun-16   1150.65  2099.33  13.38\n",
       "2-Jun-16   1151.95  2105.26  12.72\n",
       "3-Jun-16   1152.15  2099.13  12.59\n",
       "6-Jun-16   1153.04  2109.41  12.64\n",
       "7-Jun-16   1153.19  2112.13  13.04\n",
       "8-Jun-16   1154.13  2119.12  12.91\n",
       "9-Jun-16   1153.93  2115.48  13.68\n",
       "10-Jun-16  1152.59  2096.07  15.54\n",
       "13-Jun-16  1151.08  2079.06  18.84\n",
       "14-Jun-16  1152.12  2075.32  18.38\n",
       "15-Jun-16  1152.90  2071.50  18.87\n",
       "16-Jun-16  1154.32  2077.99   20.3\n",
       "17-Jun-16  1149.43  2071.22  18.63\n",
       "20-Jun-16  1153.78  2083.25  17.09\n",
       "21-Jun-16  1154.99  2088.90  17.41\n",
       "22-Jun-16  1151.89  2085.45  20.12\n",
       "23-Jun-16  1160.90  2113.32  15.92\n",
       "24-Jun-16  1139.51  2037.41  23.27\n",
       "27-Jun-16  1126.91  2000.54  22.01\n",
       "28-Jun-16  1144.47  2036.09  17.91\n",
       "29-Jun-16  1157.01  2070.77  15.95\n",
       "30-Jun-16  1163.51  2098.86  14.77\n",
       "\n",
       "[7508 rows x 3 columns]"
      ]
     },
     "execution_count": 102,
     "metadata": {},
     "output_type": "execute_result"
    }
   ],
   "source": [
    "df = pd.read_csv(\"dailypricehistory.csv\",index_col='dated',usecols=['dated','a','c','h'])\n",
    "df"
   ]
  },
  {
   "cell_type": "code",
   "execution_count": 28,
   "metadata": {
    "collapsed": false
   },
   "outputs": [
    {
     "data": {
      "text/plain": [
       "a     87.55\n",
       "c    234.93\n",
       "h     22.63\n",
       "Name: 22-Sep-86, dtype: object"
      ]
     },
     "execution_count": 28,
     "metadata": {},
     "output_type": "execute_result"
    }
   ],
   "source": [
    "df.iloc[1]"
   ]
  },
  {
   "cell_type": "code",
   "execution_count": 29,
   "metadata": {
    "collapsed": false
   },
   "outputs": [
    {
     "data": {
      "text/html": [
       "<div>\n",
       "<table border=\"1\" class=\"dataframe\">\n",
       "  <thead>\n",
       "    <tr style=\"text-align: right;\">\n",
       "      <th></th>\n",
       "      <th>a</th>\n",
       "      <th>c</th>\n",
       "      <th>h</th>\n",
       "    </tr>\n",
       "    <tr>\n",
       "      <th>dated</th>\n",
       "      <th></th>\n",
       "      <th></th>\n",
       "      <th></th>\n",
       "    </tr>\n",
       "  </thead>\n",
       "  <tbody>\n",
       "    <tr>\n",
       "      <th>19-Sep-86</th>\n",
       "      <td>87.04</td>\n",
       "      <td>232.21</td>\n",
       "      <td>23.65</td>\n",
       "    </tr>\n",
       "    <tr>\n",
       "      <th>22-Sep-86</th>\n",
       "      <td>87.55</td>\n",
       "      <td>234.93</td>\n",
       "      <td>22.63</td>\n",
       "    </tr>\n",
       "    <tr>\n",
       "      <th>23-Sep-86</th>\n",
       "      <td>87.49</td>\n",
       "      <td>235.67</td>\n",
       "      <td>22.95</td>\n",
       "    </tr>\n",
       "    <tr>\n",
       "      <th>24-Sep-86</th>\n",
       "      <td>87.68</td>\n",
       "      <td>236.28</td>\n",
       "      <td>23.11</td>\n",
       "    </tr>\n",
       "    <tr>\n",
       "      <th>25-Sep-86</th>\n",
       "      <td>86.86</td>\n",
       "      <td>231.83</td>\n",
       "      <td>24.54</td>\n",
       "    </tr>\n",
       "    <tr>\n",
       "      <th>26-Sep-86</th>\n",
       "      <td>86.99</td>\n",
       "      <td>232.23</td>\n",
       "      <td>24.62</td>\n",
       "    </tr>\n",
       "    <tr>\n",
       "      <th>29-Sep-86</th>\n",
       "      <td>86.47</td>\n",
       "      <td>229.91</td>\n",
       "      <td>24.62</td>\n",
       "    </tr>\n",
       "    <tr>\n",
       "      <th>30-Sep-86</th>\n",
       "      <td>86.94</td>\n",
       "      <td>231.32</td>\n",
       "      <td>24.76</td>\n",
       "    </tr>\n",
       "    <tr>\n",
       "      <th>1-Oct-86</th>\n",
       "      <td>87.51</td>\n",
       "      <td>233.60</td>\n",
       "      <td>24.88</td>\n",
       "    </tr>\n",
       "    <tr>\n",
       "      <th>2-Oct-86</th>\n",
       "      <td>87.62</td>\n",
       "      <td>233.92</td>\n",
       "      <td>24.87</td>\n",
       "    </tr>\n",
       "    <tr>\n",
       "      <th>3-Oct-86</th>\n",
       "      <td>87.72</td>\n",
       "      <td>233.71</td>\n",
       "      <td>25.92</td>\n",
       "    </tr>\n",
       "    <tr>\n",
       "      <th>6-Oct-86</th>\n",
       "      <td>88.01</td>\n",
       "      <td>234.78</td>\n",
       "      <td>25.11</td>\n",
       "    </tr>\n",
       "    <tr>\n",
       "      <th>7-Oct-86</th>\n",
       "      <td>87.96</td>\n",
       "      <td>234.41</td>\n",
       "      <td>25.65</td>\n",
       "    </tr>\n",
       "    <tr>\n",
       "      <th>8-Oct-86</th>\n",
       "      <td>88.55</td>\n",
       "      <td>236.68</td>\n",
       "      <td>24.99</td>\n",
       "    </tr>\n",
       "    <tr>\n",
       "      <th>9-Oct-86</th>\n",
       "      <td>88.59</td>\n",
       "      <td>235.85</td>\n",
       "      <td>25.46</td>\n",
       "    </tr>\n",
       "    <tr>\n",
       "      <th>10-Oct-86</th>\n",
       "      <td>88.52</td>\n",
       "      <td>235.48</td>\n",
       "      <td>24.3</td>\n",
       "    </tr>\n",
       "    <tr>\n",
       "      <th>13-Oct-86</th>\n",
       "      <td>88.62</td>\n",
       "      <td>235.91</td>\n",
       "      <td>24.79</td>\n",
       "    </tr>\n",
       "    <tr>\n",
       "      <th>14-Oct-86</th>\n",
       "      <td>88.89</td>\n",
       "      <td>235.37</td>\n",
       "      <td>24.04</td>\n",
       "    </tr>\n",
       "    <tr>\n",
       "      <th>15-Oct-86</th>\n",
       "      <td>89.26</td>\n",
       "      <td>238.80</td>\n",
       "      <td>22.06</td>\n",
       "    </tr>\n",
       "    <tr>\n",
       "      <th>16-Oct-86</th>\n",
       "      <td>89.57</td>\n",
       "      <td>239.53</td>\n",
       "      <td>22.09</td>\n",
       "    </tr>\n",
       "    <tr>\n",
       "      <th>17-Oct-86</th>\n",
       "      <td>89.38</td>\n",
       "      <td>238.84</td>\n",
       "      <td>21.16</td>\n",
       "    </tr>\n",
       "    <tr>\n",
       "      <th>20-Oct-86</th>\n",
       "      <td>88.63</td>\n",
       "      <td>235.97</td>\n",
       "      <td>21.21</td>\n",
       "    </tr>\n",
       "    <tr>\n",
       "      <th>21-Oct-86</th>\n",
       "      <td>88.65</td>\n",
       "      <td>235.88</td>\n",
       "      <td>20.81</td>\n",
       "    </tr>\n",
       "    <tr>\n",
       "      <th>22-Oct-86</th>\n",
       "      <td>88.80</td>\n",
       "      <td>236.26</td>\n",
       "      <td>20.64</td>\n",
       "    </tr>\n",
       "    <tr>\n",
       "      <th>23-Oct-86</th>\n",
       "      <td>89.41</td>\n",
       "      <td>239.28</td>\n",
       "      <td>20.54</td>\n",
       "    </tr>\n",
       "    <tr>\n",
       "      <th>24-Oct-86</th>\n",
       "      <td>89.44</td>\n",
       "      <td>238.26</td>\n",
       "      <td>20.34</td>\n",
       "    </tr>\n",
       "    <tr>\n",
       "      <th>27-Oct-86</th>\n",
       "      <td>89.50</td>\n",
       "      <td>238.77</td>\n",
       "      <td>19.85</td>\n",
       "    </tr>\n",
       "    <tr>\n",
       "      <th>28-Oct-86</th>\n",
       "      <td>89.71</td>\n",
       "      <td>239.26</td>\n",
       "      <td>19.9</td>\n",
       "    </tr>\n",
       "    <tr>\n",
       "      <th>29-Oct-86</th>\n",
       "      <td>89.98</td>\n",
       "      <td>240.94</td>\n",
       "      <td>20.2</td>\n",
       "    </tr>\n",
       "    <tr>\n",
       "      <th>30-Oct-86</th>\n",
       "      <td>90.52</td>\n",
       "      <td>243.71</td>\n",
       "      <td>20.01</td>\n",
       "    </tr>\n",
       "    <tr>\n",
       "      <th>...</th>\n",
       "      <td>...</td>\n",
       "      <td>...</td>\n",
       "      <td>...</td>\n",
       "    </tr>\n",
       "    <tr>\n",
       "      <th>19-May-16</th>\n",
       "      <td>1128.57</td>\n",
       "      <td>2040.04</td>\n",
       "      <td>16.35</td>\n",
       "    </tr>\n",
       "    <tr>\n",
       "      <th>20-May-16</th>\n",
       "      <td>1136.98</td>\n",
       "      <td>2052.32</td>\n",
       "      <td>15.26</td>\n",
       "    </tr>\n",
       "    <tr>\n",
       "      <th>23-May-16</th>\n",
       "      <td>1136.38</td>\n",
       "      <td>2048.04</td>\n",
       "      <td>15.02</td>\n",
       "    </tr>\n",
       "    <tr>\n",
       "      <th>24-May-16</th>\n",
       "      <td>1144.50</td>\n",
       "      <td>2076.06</td>\n",
       "      <td>13.69</td>\n",
       "    </tr>\n",
       "    <tr>\n",
       "      <th>25-May-16</th>\n",
       "      <td>1147.70</td>\n",
       "      <td>2090.54</td>\n",
       "      <td>12.77</td>\n",
       "    </tr>\n",
       "    <tr>\n",
       "      <th>26-May-16</th>\n",
       "      <td>1148.07</td>\n",
       "      <td>2090.10</td>\n",
       "      <td>12.7</td>\n",
       "    </tr>\n",
       "    <tr>\n",
       "      <th>27-May-16</th>\n",
       "      <td>1150.11</td>\n",
       "      <td>2099.06</td>\n",
       "      <td>12.2</td>\n",
       "    </tr>\n",
       "    <tr>\n",
       "      <th>31-May-16</th>\n",
       "      <td>1150.23</td>\n",
       "      <td>2096.96</td>\n",
       "      <td>13.28</td>\n",
       "    </tr>\n",
       "    <tr>\n",
       "      <th>1-Jun-16</th>\n",
       "      <td>1150.65</td>\n",
       "      <td>2099.33</td>\n",
       "      <td>13.38</td>\n",
       "    </tr>\n",
       "    <tr>\n",
       "      <th>2-Jun-16</th>\n",
       "      <td>1151.95</td>\n",
       "      <td>2105.26</td>\n",
       "      <td>12.72</td>\n",
       "    </tr>\n",
       "    <tr>\n",
       "      <th>3-Jun-16</th>\n",
       "      <td>1152.15</td>\n",
       "      <td>2099.13</td>\n",
       "      <td>12.59</td>\n",
       "    </tr>\n",
       "    <tr>\n",
       "      <th>6-Jun-16</th>\n",
       "      <td>1153.04</td>\n",
       "      <td>2109.41</td>\n",
       "      <td>12.64</td>\n",
       "    </tr>\n",
       "    <tr>\n",
       "      <th>7-Jun-16</th>\n",
       "      <td>1153.19</td>\n",
       "      <td>2112.13</td>\n",
       "      <td>13.04</td>\n",
       "    </tr>\n",
       "    <tr>\n",
       "      <th>8-Jun-16</th>\n",
       "      <td>1154.13</td>\n",
       "      <td>2119.12</td>\n",
       "      <td>12.91</td>\n",
       "    </tr>\n",
       "    <tr>\n",
       "      <th>9-Jun-16</th>\n",
       "      <td>1153.93</td>\n",
       "      <td>2115.48</td>\n",
       "      <td>13.68</td>\n",
       "    </tr>\n",
       "    <tr>\n",
       "      <th>10-Jun-16</th>\n",
       "      <td>1152.59</td>\n",
       "      <td>2096.07</td>\n",
       "      <td>15.54</td>\n",
       "    </tr>\n",
       "    <tr>\n",
       "      <th>13-Jun-16</th>\n",
       "      <td>1151.08</td>\n",
       "      <td>2079.06</td>\n",
       "      <td>18.84</td>\n",
       "    </tr>\n",
       "    <tr>\n",
       "      <th>14-Jun-16</th>\n",
       "      <td>1152.12</td>\n",
       "      <td>2075.32</td>\n",
       "      <td>18.38</td>\n",
       "    </tr>\n",
       "    <tr>\n",
       "      <th>15-Jun-16</th>\n",
       "      <td>1152.90</td>\n",
       "      <td>2071.50</td>\n",
       "      <td>18.87</td>\n",
       "    </tr>\n",
       "    <tr>\n",
       "      <th>16-Jun-16</th>\n",
       "      <td>1154.32</td>\n",
       "      <td>2077.99</td>\n",
       "      <td>20.3</td>\n",
       "    </tr>\n",
       "    <tr>\n",
       "      <th>17-Jun-16</th>\n",
       "      <td>1149.43</td>\n",
       "      <td>2071.22</td>\n",
       "      <td>18.63</td>\n",
       "    </tr>\n",
       "    <tr>\n",
       "      <th>20-Jun-16</th>\n",
       "      <td>1153.78</td>\n",
       "      <td>2083.25</td>\n",
       "      <td>17.09</td>\n",
       "    </tr>\n",
       "    <tr>\n",
       "      <th>21-Jun-16</th>\n",
       "      <td>1154.99</td>\n",
       "      <td>2088.90</td>\n",
       "      <td>17.41</td>\n",
       "    </tr>\n",
       "    <tr>\n",
       "      <th>22-Jun-16</th>\n",
       "      <td>1151.89</td>\n",
       "      <td>2085.45</td>\n",
       "      <td>20.12</td>\n",
       "    </tr>\n",
       "    <tr>\n",
       "      <th>23-Jun-16</th>\n",
       "      <td>1160.90</td>\n",
       "      <td>2113.32</td>\n",
       "      <td>15.92</td>\n",
       "    </tr>\n",
       "    <tr>\n",
       "      <th>24-Jun-16</th>\n",
       "      <td>1139.51</td>\n",
       "      <td>2037.41</td>\n",
       "      <td>23.27</td>\n",
       "    </tr>\n",
       "    <tr>\n",
       "      <th>27-Jun-16</th>\n",
       "      <td>1126.91</td>\n",
       "      <td>2000.54</td>\n",
       "      <td>22.01</td>\n",
       "    </tr>\n",
       "    <tr>\n",
       "      <th>28-Jun-16</th>\n",
       "      <td>1144.47</td>\n",
       "      <td>2036.09</td>\n",
       "      <td>17.91</td>\n",
       "    </tr>\n",
       "    <tr>\n",
       "      <th>29-Jun-16</th>\n",
       "      <td>1157.01</td>\n",
       "      <td>2070.77</td>\n",
       "      <td>15.95</td>\n",
       "    </tr>\n",
       "    <tr>\n",
       "      <th>30-Jun-16</th>\n",
       "      <td>1163.51</td>\n",
       "      <td>2098.86</td>\n",
       "      <td>14.77</td>\n",
       "    </tr>\n",
       "  </tbody>\n",
       "</table>\n",
       "<p>7508 rows × 3 columns</p>\n",
       "</div>"
      ],
      "text/plain": [
       "                 a        c      h\n",
       "dated                             \n",
       "19-Sep-86    87.04   232.21  23.65\n",
       "22-Sep-86    87.55   234.93  22.63\n",
       "23-Sep-86    87.49   235.67  22.95\n",
       "24-Sep-86    87.68   236.28  23.11\n",
       "25-Sep-86    86.86   231.83  24.54\n",
       "26-Sep-86    86.99   232.23  24.62\n",
       "29-Sep-86    86.47   229.91  24.62\n",
       "30-Sep-86    86.94   231.32  24.76\n",
       "1-Oct-86     87.51   233.60  24.88\n",
       "2-Oct-86     87.62   233.92  24.87\n",
       "3-Oct-86     87.72   233.71  25.92\n",
       "6-Oct-86     88.01   234.78  25.11\n",
       "7-Oct-86     87.96   234.41  25.65\n",
       "8-Oct-86     88.55   236.68  24.99\n",
       "9-Oct-86     88.59   235.85  25.46\n",
       "10-Oct-86    88.52   235.48   24.3\n",
       "13-Oct-86    88.62   235.91  24.79\n",
       "14-Oct-86    88.89   235.37  24.04\n",
       "15-Oct-86    89.26   238.80  22.06\n",
       "16-Oct-86    89.57   239.53  22.09\n",
       "17-Oct-86    89.38   238.84  21.16\n",
       "20-Oct-86    88.63   235.97  21.21\n",
       "21-Oct-86    88.65   235.88  20.81\n",
       "22-Oct-86    88.80   236.26  20.64\n",
       "23-Oct-86    89.41   239.28  20.54\n",
       "24-Oct-86    89.44   238.26  20.34\n",
       "27-Oct-86    89.50   238.77  19.85\n",
       "28-Oct-86    89.71   239.26   19.9\n",
       "29-Oct-86    89.98   240.94   20.2\n",
       "30-Oct-86    90.52   243.71  20.01\n",
       "...            ...      ...    ...\n",
       "19-May-16  1128.57  2040.04  16.35\n",
       "20-May-16  1136.98  2052.32  15.26\n",
       "23-May-16  1136.38  2048.04  15.02\n",
       "24-May-16  1144.50  2076.06  13.69\n",
       "25-May-16  1147.70  2090.54  12.77\n",
       "26-May-16  1148.07  2090.10   12.7\n",
       "27-May-16  1150.11  2099.06   12.2\n",
       "31-May-16  1150.23  2096.96  13.28\n",
       "1-Jun-16   1150.65  2099.33  13.38\n",
       "2-Jun-16   1151.95  2105.26  12.72\n",
       "3-Jun-16   1152.15  2099.13  12.59\n",
       "6-Jun-16   1153.04  2109.41  12.64\n",
       "7-Jun-16   1153.19  2112.13  13.04\n",
       "8-Jun-16   1154.13  2119.12  12.91\n",
       "9-Jun-16   1153.93  2115.48  13.68\n",
       "10-Jun-16  1152.59  2096.07  15.54\n",
       "13-Jun-16  1151.08  2079.06  18.84\n",
       "14-Jun-16  1152.12  2075.32  18.38\n",
       "15-Jun-16  1152.90  2071.50  18.87\n",
       "16-Jun-16  1154.32  2077.99   20.3\n",
       "17-Jun-16  1149.43  2071.22  18.63\n",
       "20-Jun-16  1153.78  2083.25  17.09\n",
       "21-Jun-16  1154.99  2088.90  17.41\n",
       "22-Jun-16  1151.89  2085.45  20.12\n",
       "23-Jun-16  1160.90  2113.32  15.92\n",
       "24-Jun-16  1139.51  2037.41  23.27\n",
       "27-Jun-16  1126.91  2000.54  22.01\n",
       "28-Jun-16  1144.47  2036.09  17.91\n",
       "29-Jun-16  1157.01  2070.77  15.95\n",
       "30-Jun-16  1163.51  2098.86  14.77\n",
       "\n",
       "[7508 rows x 3 columns]"
      ]
     },
     "execution_count": 29,
     "metadata": {},
     "output_type": "execute_result"
    }
   ],
   "source": [
    "df"
   ]
  },
  {
   "cell_type": "code",
   "execution_count": 73,
   "metadata": {
    "collapsed": false
   },
   "outputs": [
    {
     "data": {
      "text/html": [
       "<div>\n",
       "<table border=\"1\" class=\"dataframe\">\n",
       "  <thead>\n",
       "    <tr style=\"text-align: right;\">\n",
       "      <th></th>\n",
       "      <th>a</th>\n",
       "      <th>c</th>\n",
       "      <th>h</th>\n",
       "    </tr>\n",
       "    <tr>\n",
       "      <th>dated</th>\n",
       "      <th></th>\n",
       "      <th></th>\n",
       "      <th></th>\n",
       "    </tr>\n",
       "  </thead>\n",
       "  <tbody>\n",
       "    <tr>\n",
       "      <th>19-Sep-86</th>\n",
       "      <td>87.04</td>\n",
       "      <td>232.21</td>\n",
       "      <td>23.65</td>\n",
       "    </tr>\n",
       "    <tr>\n",
       "      <th>22-Sep-86</th>\n",
       "      <td>87.55</td>\n",
       "      <td>234.93</td>\n",
       "      <td>22.63</td>\n",
       "    </tr>\n",
       "    <tr>\n",
       "      <th>23-Sep-86</th>\n",
       "      <td>87.49</td>\n",
       "      <td>235.67</td>\n",
       "      <td>22.95</td>\n",
       "    </tr>\n",
       "  </tbody>\n",
       "</table>\n",
       "</div>"
      ],
      "text/plain": [
       "               a       c      h\n",
       "dated                          \n",
       "19-Sep-86  87.04  232.21  23.65\n",
       "22-Sep-86  87.55  234.93  22.63\n",
       "23-Sep-86  87.49  235.67  22.95"
      ]
     },
     "execution_count": 73,
     "metadata": {},
     "output_type": "execute_result"
    }
   ],
   "source": [
    "copy=df.iloc[[0,1,2]].copy()\n",
    "copy"
   ]
  },
  {
   "cell_type": "code",
   "execution_count": 31,
   "metadata": {
    "collapsed": false
   },
   "outputs": [
    {
     "data": {
      "text/plain": [
       "dated\n",
       "19-Sep-86    464.42\n",
       "22-Sep-86    469.86\n",
       "23-Sep-86    471.34\n",
       "Name: c, dtype: float64"
      ]
     },
     "execution_count": 31,
     "metadata": {},
     "output_type": "execute_result"
    }
   ],
   "source": [
    "copy = copy['c']*2\n",
    "copy"
   ]
  },
  {
   "cell_type": "code",
   "execution_count": 63,
   "metadata": {
    "collapsed": false
   },
   "outputs": [
    {
     "data": {
      "text/html": [
       "<div>\n",
       "<table border=\"1\" class=\"dataframe\">\n",
       "  <thead>\n",
       "    <tr style=\"text-align: right;\">\n",
       "      <th></th>\n",
       "      <th>a</th>\n",
       "      <th>c</th>\n",
       "      <th>h</th>\n",
       "    </tr>\n",
       "    <tr>\n",
       "      <th>dated</th>\n",
       "      <th></th>\n",
       "      <th></th>\n",
       "      <th></th>\n",
       "    </tr>\n",
       "  </thead>\n",
       "  <tbody>\n",
       "    <tr>\n",
       "      <th>19-Sep-86</th>\n",
       "      <td>87.04</td>\n",
       "      <td>928.84</td>\n",
       "      <td>23.65</td>\n",
       "    </tr>\n",
       "    <tr>\n",
       "      <th>22-Sep-86</th>\n",
       "      <td>87.55</td>\n",
       "      <td>939.72</td>\n",
       "      <td>22.63</td>\n",
       "    </tr>\n",
       "    <tr>\n",
       "      <th>23-Sep-86</th>\n",
       "      <td>87.49</td>\n",
       "      <td>942.68</td>\n",
       "      <td>22.95</td>\n",
       "    </tr>\n",
       "  </tbody>\n",
       "</table>\n",
       "</div>"
      ],
      "text/plain": [
       "               a       c      h\n",
       "dated                          \n",
       "19-Sep-86  87.04  928.84  23.65\n",
       "22-Sep-86  87.55  939.72  22.63\n",
       "23-Sep-86  87.49  942.68  22.95"
      ]
     },
     "execution_count": 63,
     "metadata": {},
     "output_type": "execute_result"
    }
   ],
   "source": [
    "copy"
   ]
  },
  {
   "cell_type": "code",
   "execution_count": 62,
   "metadata": {
    "collapsed": false
   },
   "outputs": [],
   "source": [
    "copy.c=copy.c*2"
   ]
  },
  {
   "cell_type": "code",
   "execution_count": 38,
   "metadata": {
    "collapsed": false
   },
   "outputs": [
    {
     "data": {
      "text/html": [
       "<div>\n",
       "<table border=\"1\" class=\"dataframe\">\n",
       "  <thead>\n",
       "    <tr style=\"text-align: right;\">\n",
       "      <th></th>\n",
       "      <th>a</th>\n",
       "      <th>c</th>\n",
       "      <th>h</th>\n",
       "    </tr>\n",
       "    <tr>\n",
       "      <th>dated</th>\n",
       "      <th></th>\n",
       "      <th></th>\n",
       "      <th></th>\n",
       "    </tr>\n",
       "  </thead>\n",
       "  <tbody>\n",
       "    <tr>\n",
       "      <th>19-Sep-86</th>\n",
       "      <td>87.04</td>\n",
       "      <td>232.21</td>\n",
       "      <td>23.65</td>\n",
       "    </tr>\n",
       "    <tr>\n",
       "      <th>22-Sep-86</th>\n",
       "      <td>87.55</td>\n",
       "      <td>234.93</td>\n",
       "      <td>22.63</td>\n",
       "    </tr>\n",
       "    <tr>\n",
       "      <th>23-Sep-86</th>\n",
       "      <td>87.49</td>\n",
       "      <td>235.67</td>\n",
       "      <td>22.95</td>\n",
       "    </tr>\n",
       "    <tr>\n",
       "      <th>24-Sep-86</th>\n",
       "      <td>87.68</td>\n",
       "      <td>236.28</td>\n",
       "      <td>23.11</td>\n",
       "    </tr>\n",
       "    <tr>\n",
       "      <th>25-Sep-86</th>\n",
       "      <td>86.86</td>\n",
       "      <td>231.83</td>\n",
       "      <td>24.54</td>\n",
       "    </tr>\n",
       "    <tr>\n",
       "      <th>26-Sep-86</th>\n",
       "      <td>86.99</td>\n",
       "      <td>232.23</td>\n",
       "      <td>24.62</td>\n",
       "    </tr>\n",
       "    <tr>\n",
       "      <th>29-Sep-86</th>\n",
       "      <td>86.47</td>\n",
       "      <td>229.91</td>\n",
       "      <td>24.62</td>\n",
       "    </tr>\n",
       "    <tr>\n",
       "      <th>30-Sep-86</th>\n",
       "      <td>86.94</td>\n",
       "      <td>231.32</td>\n",
       "      <td>24.76</td>\n",
       "    </tr>\n",
       "    <tr>\n",
       "      <th>1-Oct-86</th>\n",
       "      <td>87.51</td>\n",
       "      <td>233.60</td>\n",
       "      <td>24.88</td>\n",
       "    </tr>\n",
       "    <tr>\n",
       "      <th>2-Oct-86</th>\n",
       "      <td>87.62</td>\n",
       "      <td>233.92</td>\n",
       "      <td>24.87</td>\n",
       "    </tr>\n",
       "  </tbody>\n",
       "</table>\n",
       "</div>"
      ],
      "text/plain": [
       "               a       c      h\n",
       "dated                          \n",
       "19-Sep-86  87.04  232.21  23.65\n",
       "22-Sep-86  87.55  234.93  22.63\n",
       "23-Sep-86  87.49  235.67  22.95\n",
       "24-Sep-86  87.68  236.28  23.11\n",
       "25-Sep-86  86.86  231.83  24.54\n",
       "26-Sep-86  86.99  232.23  24.62\n",
       "29-Sep-86  86.47  229.91  24.62\n",
       "30-Sep-86  86.94  231.32  24.76\n",
       "1-Oct-86   87.51  233.60  24.88\n",
       "2-Oct-86   87.62  233.92  24.87"
      ]
     },
     "execution_count": 38,
     "metadata": {},
     "output_type": "execute_result"
    }
   ],
   "source": [
    "df[:10]"
   ]
  },
  {
   "cell_type": "code",
   "execution_count": 76,
   "metadata": {
    "collapsed": false
   },
   "outputs": [
    {
     "data": {
      "text/html": [
       "<div>\n",
       "<table border=\"1\" class=\"dataframe\">\n",
       "  <thead>\n",
       "    <tr style=\"text-align: right;\">\n",
       "      <th></th>\n",
       "      <th>a</th>\n",
       "      <th>c</th>\n",
       "      <th>h</th>\n",
       "    </tr>\n",
       "    <tr>\n",
       "      <th>dated</th>\n",
       "      <th></th>\n",
       "      <th></th>\n",
       "      <th></th>\n",
       "    </tr>\n",
       "  </thead>\n",
       "  <tbody>\n",
       "    <tr>\n",
       "      <th>19-Sep-86</th>\n",
       "      <td>87.04</td>\n",
       "      <td>232.21</td>\n",
       "      <td>23.65</td>\n",
       "    </tr>\n",
       "    <tr>\n",
       "      <th>22-Sep-86</th>\n",
       "      <td>87.55</td>\n",
       "      <td>234.93</td>\n",
       "      <td>22.63</td>\n",
       "    </tr>\n",
       "    <tr>\n",
       "      <th>23-Sep-86</th>\n",
       "      <td>87.49</td>\n",
       "      <td>235.67</td>\n",
       "      <td>22.95</td>\n",
       "    </tr>\n",
       "  </tbody>\n",
       "</table>\n",
       "</div>"
      ],
      "text/plain": [
       "               a       c      h\n",
       "dated                          \n",
       "19-Sep-86  87.04  232.21  23.65\n",
       "22-Sep-86  87.55  234.93  22.63\n",
       "23-Sep-86  87.49  235.67  22.95"
      ]
     },
     "execution_count": 76,
     "metadata": {},
     "output_type": "execute_result"
    }
   ],
   "source": [
    "copy"
   ]
  },
  {
   "cell_type": "code",
   "execution_count": 53,
   "metadata": {
    "collapsed": false
   },
   "outputs": [
    {
     "name": "stderr",
     "output_type": "stream",
     "text": [
      "/Users/prash/anaconda/lib/python3.5/site-packages/pandas/core/generic.py:2701: SettingWithCopyWarning: \n",
      "A value is trying to be set on a copy of a slice from a DataFrame.\n",
      "Try using .loc[row_indexer,col_indexer] = value instead\n",
      "\n",
      "See the caveats in the documentation: http://pandas.pydata.org/pandas-docs/stable/indexing.html#indexing-view-versus-copy\n",
      "  self[name] = value\n"
     ]
    }
   ],
   "source": [
    "df[:10].c = copy.c*2"
   ]
  },
  {
   "cell_type": "code",
   "execution_count": 54,
   "metadata": {
    "collapsed": false
   },
   "outputs": [
    {
     "data": {
      "text/html": [
       "<div>\n",
       "<table border=\"1\" class=\"dataframe\">\n",
       "  <thead>\n",
       "    <tr style=\"text-align: right;\">\n",
       "      <th></th>\n",
       "      <th>a</th>\n",
       "      <th>c</th>\n",
       "      <th>h</th>\n",
       "    </tr>\n",
       "    <tr>\n",
       "      <th>dated</th>\n",
       "      <th></th>\n",
       "      <th></th>\n",
       "      <th></th>\n",
       "    </tr>\n",
       "  </thead>\n",
       "  <tbody>\n",
       "    <tr>\n",
       "      <th>19-Sep-86</th>\n",
       "      <td>87.04</td>\n",
       "      <td>928.84</td>\n",
       "      <td>23.65</td>\n",
       "    </tr>\n",
       "    <tr>\n",
       "      <th>22-Sep-86</th>\n",
       "      <td>87.55</td>\n",
       "      <td>939.72</td>\n",
       "      <td>22.63</td>\n",
       "    </tr>\n",
       "    <tr>\n",
       "      <th>23-Sep-86</th>\n",
       "      <td>87.49</td>\n",
       "      <td>942.68</td>\n",
       "      <td>22.95</td>\n",
       "    </tr>\n",
       "    <tr>\n",
       "      <th>24-Sep-86</th>\n",
       "      <td>87.68</td>\n",
       "      <td>NaN</td>\n",
       "      <td>23.11</td>\n",
       "    </tr>\n",
       "    <tr>\n",
       "      <th>25-Sep-86</th>\n",
       "      <td>86.86</td>\n",
       "      <td>NaN</td>\n",
       "      <td>24.54</td>\n",
       "    </tr>\n",
       "    <tr>\n",
       "      <th>26-Sep-86</th>\n",
       "      <td>86.99</td>\n",
       "      <td>NaN</td>\n",
       "      <td>24.62</td>\n",
       "    </tr>\n",
       "    <tr>\n",
       "      <th>29-Sep-86</th>\n",
       "      <td>86.47</td>\n",
       "      <td>NaN</td>\n",
       "      <td>24.62</td>\n",
       "    </tr>\n",
       "    <tr>\n",
       "      <th>30-Sep-86</th>\n",
       "      <td>86.94</td>\n",
       "      <td>NaN</td>\n",
       "      <td>24.76</td>\n",
       "    </tr>\n",
       "    <tr>\n",
       "      <th>1-Oct-86</th>\n",
       "      <td>87.51</td>\n",
       "      <td>NaN</td>\n",
       "      <td>24.88</td>\n",
       "    </tr>\n",
       "    <tr>\n",
       "      <th>2-Oct-86</th>\n",
       "      <td>87.62</td>\n",
       "      <td>NaN</td>\n",
       "      <td>24.87</td>\n",
       "    </tr>\n",
       "  </tbody>\n",
       "</table>\n",
       "</div>"
      ],
      "text/plain": [
       "               a       c      h\n",
       "dated                          \n",
       "19-Sep-86  87.04  928.84  23.65\n",
       "22-Sep-86  87.55  939.72  22.63\n",
       "23-Sep-86  87.49  942.68  22.95\n",
       "24-Sep-86  87.68     NaN  23.11\n",
       "25-Sep-86  86.86     NaN  24.54\n",
       "26-Sep-86  86.99     NaN  24.62\n",
       "29-Sep-86  86.47     NaN  24.62\n",
       "30-Sep-86  86.94     NaN  24.76\n",
       "1-Oct-86   87.51     NaN  24.88\n",
       "2-Oct-86   87.62     NaN  24.87"
      ]
     },
     "execution_count": 54,
     "metadata": {},
     "output_type": "execute_result"
    }
   ],
   "source": [
    "df[:10]"
   ]
  },
  {
   "cell_type": "code",
   "execution_count": 44,
   "metadata": {
    "collapsed": false
   },
   "outputs": [
    {
     "data": {
      "text/plain": [
       "Index(['19-Sep-86', '22-Sep-86', '23-Sep-86'], dtype='object', name='dated')"
      ]
     },
     "execution_count": 44,
     "metadata": {},
     "output_type": "execute_result"
    }
   ],
   "source": [
    "copy.index"
   ]
  },
  {
   "cell_type": "code",
   "execution_count": 59,
   "metadata": {
    "collapsed": false
   },
   "outputs": [
    {
     "data": {
      "text/html": [
       "<div>\n",
       "<table border=\"1\" class=\"dataframe\">\n",
       "  <thead>\n",
       "    <tr style=\"text-align: right;\">\n",
       "      <th></th>\n",
       "      <th>a</th>\n",
       "      <th>c</th>\n",
       "      <th>h</th>\n",
       "    </tr>\n",
       "    <tr>\n",
       "      <th>dated</th>\n",
       "      <th></th>\n",
       "      <th></th>\n",
       "      <th></th>\n",
       "    </tr>\n",
       "  </thead>\n",
       "  <tbody>\n",
       "    <tr>\n",
       "      <th>19-Sep-86</th>\n",
       "      <td>87.04</td>\n",
       "      <td>232.21</td>\n",
       "      <td>23.65</td>\n",
       "    </tr>\n",
       "    <tr>\n",
       "      <th>22-Sep-86</th>\n",
       "      <td>87.55</td>\n",
       "      <td>234.93</td>\n",
       "      <td>22.63</td>\n",
       "    </tr>\n",
       "    <tr>\n",
       "      <th>23-Sep-86</th>\n",
       "      <td>87.49</td>\n",
       "      <td>235.67</td>\n",
       "      <td>22.95</td>\n",
       "    </tr>\n",
       "  </tbody>\n",
       "</table>\n",
       "</div>"
      ],
      "text/plain": [
       "               a       c      h\n",
       "dated                          \n",
       "19-Sep-86  87.04  232.21  23.65\n",
       "22-Sep-86  87.55  234.93  22.63\n",
       "23-Sep-86  87.49  235.67  22.95"
      ]
     },
     "execution_count": 59,
     "metadata": {},
     "output_type": "execute_result"
    }
   ],
   "source": [
    "df.loc[copy.index]"
   ]
  },
  {
   "cell_type": "code",
   "execution_count": 97,
   "metadata": {
    "collapsed": false
   },
   "outputs": [
    {
     "data": {
      "text/html": [
       "<div>\n",
       "<table border=\"1\" class=\"dataframe\">\n",
       "  <thead>\n",
       "    <tr style=\"text-align: right;\">\n",
       "      <th></th>\n",
       "      <th>c</th>\n",
       "    </tr>\n",
       "    <tr>\n",
       "      <th>dated</th>\n",
       "      <th></th>\n",
       "    </tr>\n",
       "  </thead>\n",
       "  <tbody>\n",
       "    <tr>\n",
       "      <th>19-Sep-86</th>\n",
       "      <td>232.21</td>\n",
       "    </tr>\n",
       "    <tr>\n",
       "      <th>22-Sep-86</th>\n",
       "      <td>234.93</td>\n",
       "    </tr>\n",
       "    <tr>\n",
       "      <th>23-Sep-86</th>\n",
       "      <td>235.67</td>\n",
       "    </tr>\n",
       "  </tbody>\n",
       "</table>\n",
       "</div>"
      ],
      "text/plain": [
       "                c\n",
       "dated            \n",
       "19-Sep-86  232.21\n",
       "22-Sep-86  234.93\n",
       "23-Sep-86  235.67"
      ]
     },
     "execution_count": 97,
     "metadata": {},
     "output_type": "execute_result"
    }
   ],
   "source": [
    "copy.index\n",
    "copy.loc[copy.index];\n",
    "copy.loc[copy.index][['c']];\n"
   ]
  },
  {
   "cell_type": "code",
   "execution_count": 105,
   "metadata": {
    "collapsed": false
   },
   "outputs": [
    {
     "name": "stderr",
     "output_type": "stream",
     "text": [
      "/Users/prash/anaconda/lib/python3.5/site-packages/pandas/core/generic.py:2701: SettingWithCopyWarning: \n",
      "A value is trying to be set on a copy of a slice from a DataFrame.\n",
      "Try using .loc[row_indexer,col_indexer] = value instead\n",
      "\n",
      "See the caveats in the documentation: http://pandas.pydata.org/pandas-docs/stable/indexing.html#indexing-view-versus-copy\n",
      "  self[name] = value\n"
     ]
    }
   ],
   "source": [
    "df[:3].c *= 2"
   ]
  },
  {
   "cell_type": "code",
   "execution_count": 98,
   "metadata": {
    "collapsed": false
   },
   "outputs": [
    {
     "data": {
      "text/html": [
       "<div>\n",
       "<table border=\"1\" class=\"dataframe\">\n",
       "  <thead>\n",
       "    <tr style=\"text-align: right;\">\n",
       "      <th></th>\n",
       "      <th>c</th>\n",
       "    </tr>\n",
       "    <tr>\n",
       "      <th>dated</th>\n",
       "      <th></th>\n",
       "    </tr>\n",
       "  </thead>\n",
       "  <tbody>\n",
       "    <tr>\n",
       "      <th>19-Sep-86</th>\n",
       "      <td>232.21</td>\n",
       "    </tr>\n",
       "    <tr>\n",
       "      <th>22-Sep-86</th>\n",
       "      <td>234.93</td>\n",
       "    </tr>\n",
       "    <tr>\n",
       "      <th>23-Sep-86</th>\n",
       "      <td>235.67</td>\n",
       "    </tr>\n",
       "  </tbody>\n",
       "</table>\n",
       "</div>"
      ],
      "text/plain": [
       "                c\n",
       "dated            \n",
       "19-Sep-86  232.21\n",
       "22-Sep-86  234.93\n",
       "23-Sep-86  235.67"
      ]
     },
     "execution_count": 98,
     "metadata": {},
     "output_type": "execute_result"
    }
   ],
   "source": [
    "df.loc[copy.index][['c']]"
   ]
  },
  {
   "cell_type": "code",
   "execution_count": 101,
   "metadata": {
    "collapsed": false
   },
   "outputs": [
    {
     "data": {
      "text/html": [
       "<div>\n",
       "<table border=\"1\" class=\"dataframe\">\n",
       "  <thead>\n",
       "    <tr style=\"text-align: right;\">\n",
       "      <th></th>\n",
       "      <th>a</th>\n",
       "      <th>c</th>\n",
       "      <th>h</th>\n",
       "    </tr>\n",
       "    <tr>\n",
       "      <th>dated</th>\n",
       "      <th></th>\n",
       "      <th></th>\n",
       "      <th></th>\n",
       "    </tr>\n",
       "  </thead>\n",
       "  <tbody>\n",
       "    <tr>\n",
       "      <th>19-Sep-86</th>\n",
       "      <td>NaN</td>\n",
       "      <td>464.42</td>\n",
       "      <td>NaN</td>\n",
       "    </tr>\n",
       "    <tr>\n",
       "      <th>22-Sep-86</th>\n",
       "      <td>NaN</td>\n",
       "      <td>469.86</td>\n",
       "      <td>NaN</td>\n",
       "    </tr>\n",
       "    <tr>\n",
       "      <th>23-Sep-86</th>\n",
       "      <td>NaN</td>\n",
       "      <td>471.34</td>\n",
       "      <td>NaN</td>\n",
       "    </tr>\n",
       "    <tr>\n",
       "      <th>24-Sep-86</th>\n",
       "      <td>87.68</td>\n",
       "      <td>236.28</td>\n",
       "      <td>23.11</td>\n",
       "    </tr>\n",
       "    <tr>\n",
       "      <th>25-Sep-86</th>\n",
       "      <td>86.86</td>\n",
       "      <td>231.83</td>\n",
       "      <td>24.54</td>\n",
       "    </tr>\n",
       "    <tr>\n",
       "      <th>26-Sep-86</th>\n",
       "      <td>86.99</td>\n",
       "      <td>232.23</td>\n",
       "      <td>24.62</td>\n",
       "    </tr>\n",
       "    <tr>\n",
       "      <th>29-Sep-86</th>\n",
       "      <td>86.47</td>\n",
       "      <td>229.91</td>\n",
       "      <td>24.62</td>\n",
       "    </tr>\n",
       "    <tr>\n",
       "      <th>30-Sep-86</th>\n",
       "      <td>86.94</td>\n",
       "      <td>231.32</td>\n",
       "      <td>24.76</td>\n",
       "    </tr>\n",
       "    <tr>\n",
       "      <th>1-Oct-86</th>\n",
       "      <td>87.51</td>\n",
       "      <td>233.60</td>\n",
       "      <td>24.88</td>\n",
       "    </tr>\n",
       "    <tr>\n",
       "      <th>2-Oct-86</th>\n",
       "      <td>87.62</td>\n",
       "      <td>233.92</td>\n",
       "      <td>24.87</td>\n",
       "    </tr>\n",
       "  </tbody>\n",
       "</table>\n",
       "</div>"
      ],
      "text/plain": [
       "               a       c      h\n",
       "dated                          \n",
       "19-Sep-86    NaN  464.42    NaN\n",
       "22-Sep-86    NaN  469.86    NaN\n",
       "23-Sep-86    NaN  471.34    NaN\n",
       "24-Sep-86  87.68  236.28  23.11\n",
       "25-Sep-86  86.86  231.83  24.54\n",
       "26-Sep-86  86.99  232.23  24.62\n",
       "29-Sep-86  86.47  229.91  24.62\n",
       "30-Sep-86  86.94  231.32  24.76\n",
       "1-Oct-86   87.51  233.60  24.88\n",
       "2-Oct-86   87.62  233.92  24.87"
      ]
     },
     "execution_count": 101,
     "metadata": {},
     "output_type": "execute_result"
    }
   ],
   "source": [
    "df.loc[copy.index] = copy.loc[copy.index][['c']] * 2\n",
    "df[:10]"
   ]
  },
  {
   "cell_type": "code",
   "execution_count": 106,
   "metadata": {
    "collapsed": false
   },
   "outputs": [
    {
     "data": {
      "text/html": [
       "<div>\n",
       "<table border=\"1\" class=\"dataframe\">\n",
       "  <thead>\n",
       "    <tr style=\"text-align: right;\">\n",
       "      <th></th>\n",
       "      <th>a</th>\n",
       "      <th>c</th>\n",
       "      <th>h</th>\n",
       "    </tr>\n",
       "    <tr>\n",
       "      <th>dated</th>\n",
       "      <th></th>\n",
       "      <th></th>\n",
       "      <th></th>\n",
       "    </tr>\n",
       "  </thead>\n",
       "  <tbody>\n",
       "    <tr>\n",
       "      <th>19-Sep-86</th>\n",
       "      <td>87.04</td>\n",
       "      <td>464.42</td>\n",
       "      <td>23.65</td>\n",
       "    </tr>\n",
       "    <tr>\n",
       "      <th>22-Sep-86</th>\n",
       "      <td>87.55</td>\n",
       "      <td>469.86</td>\n",
       "      <td>22.63</td>\n",
       "    </tr>\n",
       "    <tr>\n",
       "      <th>23-Sep-86</th>\n",
       "      <td>87.49</td>\n",
       "      <td>471.34</td>\n",
       "      <td>22.95</td>\n",
       "    </tr>\n",
       "    <tr>\n",
       "      <th>24-Sep-86</th>\n",
       "      <td>87.68</td>\n",
       "      <td>236.28</td>\n",
       "      <td>23.11</td>\n",
       "    </tr>\n",
       "    <tr>\n",
       "      <th>25-Sep-86</th>\n",
       "      <td>86.86</td>\n",
       "      <td>231.83</td>\n",
       "      <td>24.54</td>\n",
       "    </tr>\n",
       "    <tr>\n",
       "      <th>26-Sep-86</th>\n",
       "      <td>86.99</td>\n",
       "      <td>232.23</td>\n",
       "      <td>24.62</td>\n",
       "    </tr>\n",
       "    <tr>\n",
       "      <th>29-Sep-86</th>\n",
       "      <td>86.47</td>\n",
       "      <td>229.91</td>\n",
       "      <td>24.62</td>\n",
       "    </tr>\n",
       "    <tr>\n",
       "      <th>30-Sep-86</th>\n",
       "      <td>86.94</td>\n",
       "      <td>231.32</td>\n",
       "      <td>24.76</td>\n",
       "    </tr>\n",
       "    <tr>\n",
       "      <th>1-Oct-86</th>\n",
       "      <td>87.51</td>\n",
       "      <td>233.60</td>\n",
       "      <td>24.88</td>\n",
       "    </tr>\n",
       "    <tr>\n",
       "      <th>2-Oct-86</th>\n",
       "      <td>87.62</td>\n",
       "      <td>233.92</td>\n",
       "      <td>24.87</td>\n",
       "    </tr>\n",
       "  </tbody>\n",
       "</table>\n",
       "</div>"
      ],
      "text/plain": [
       "               a       c      h\n",
       "dated                          \n",
       "19-Sep-86  87.04  464.42  23.65\n",
       "22-Sep-86  87.55  469.86  22.63\n",
       "23-Sep-86  87.49  471.34  22.95\n",
       "24-Sep-86  87.68  236.28  23.11\n",
       "25-Sep-86  86.86  231.83  24.54\n",
       "26-Sep-86  86.99  232.23  24.62\n",
       "29-Sep-86  86.47  229.91  24.62\n",
       "30-Sep-86  86.94  231.32  24.76\n",
       "1-Oct-86   87.51  233.60  24.88\n",
       "2-Oct-86   87.62  233.92  24.87"
      ]
     },
     "execution_count": 106,
     "metadata": {},
     "output_type": "execute_result"
    }
   ],
   "source": [
    "df[:10]"
   ]
  },
  {
   "cell_type": "code",
   "execution_count": 70,
   "metadata": {
    "collapsed": false
   },
   "outputs": [
    {
     "data": {
      "text/plain": [
       "dated\n",
       "19-Sep-86    928.84\n",
       "22-Sep-86    939.72\n",
       "23-Sep-86    942.68\n",
       "Name: c, dtype: float64"
      ]
     },
     "execution_count": 70,
     "metadata": {},
     "output_type": "execute_result"
    }
   ],
   "source": [
    "copy\n",
    "copy.c"
   ]
  },
  {
   "cell_type": "code",
   "execution_count": 66,
   "metadata": {
    "collapsed": false
   },
   "outputs": [
    {
     "data": {
      "text/html": [
       "<div>\n",
       "<table border=\"1\" class=\"dataframe\">\n",
       "  <thead>\n",
       "    <tr style=\"text-align: right;\">\n",
       "      <th></th>\n",
       "      <th>a</th>\n",
       "      <th>c</th>\n",
       "      <th>h</th>\n",
       "    </tr>\n",
       "    <tr>\n",
       "      <th>dated</th>\n",
       "      <th></th>\n",
       "      <th></th>\n",
       "      <th></th>\n",
       "    </tr>\n",
       "  </thead>\n",
       "  <tbody>\n",
       "    <tr>\n",
       "      <th>19-Sep-86</th>\n",
       "      <td>87.04</td>\n",
       "      <td>232.21</td>\n",
       "      <td>23.65</td>\n",
       "    </tr>\n",
       "    <tr>\n",
       "      <th>22-Sep-86</th>\n",
       "      <td>87.55</td>\n",
       "      <td>234.93</td>\n",
       "      <td>22.63</td>\n",
       "    </tr>\n",
       "    <tr>\n",
       "      <th>23-Sep-86</th>\n",
       "      <td>87.49</td>\n",
       "      <td>235.67</td>\n",
       "      <td>22.95</td>\n",
       "    </tr>\n",
       "    <tr>\n",
       "      <th>24-Sep-86</th>\n",
       "      <td>87.68</td>\n",
       "      <td>236.28</td>\n",
       "      <td>23.11</td>\n",
       "    </tr>\n",
       "    <tr>\n",
       "      <th>25-Sep-86</th>\n",
       "      <td>86.86</td>\n",
       "      <td>231.83</td>\n",
       "      <td>24.54</td>\n",
       "    </tr>\n",
       "    <tr>\n",
       "      <th>26-Sep-86</th>\n",
       "      <td>86.99</td>\n",
       "      <td>232.23</td>\n",
       "      <td>24.62</td>\n",
       "    </tr>\n",
       "    <tr>\n",
       "      <th>29-Sep-86</th>\n",
       "      <td>86.47</td>\n",
       "      <td>229.91</td>\n",
       "      <td>24.62</td>\n",
       "    </tr>\n",
       "    <tr>\n",
       "      <th>30-Sep-86</th>\n",
       "      <td>86.94</td>\n",
       "      <td>231.32</td>\n",
       "      <td>24.76</td>\n",
       "    </tr>\n",
       "    <tr>\n",
       "      <th>1-Oct-86</th>\n",
       "      <td>87.51</td>\n",
       "      <td>233.60</td>\n",
       "      <td>24.88</td>\n",
       "    </tr>\n",
       "    <tr>\n",
       "      <th>2-Oct-86</th>\n",
       "      <td>87.62</td>\n",
       "      <td>233.92</td>\n",
       "      <td>24.87</td>\n",
       "    </tr>\n",
       "  </tbody>\n",
       "</table>\n",
       "</div>"
      ],
      "text/plain": [
       "               a       c      h\n",
       "dated                          \n",
       "19-Sep-86  87.04  232.21  23.65\n",
       "22-Sep-86  87.55  234.93  22.63\n",
       "23-Sep-86  87.49  235.67  22.95\n",
       "24-Sep-86  87.68  236.28  23.11\n",
       "25-Sep-86  86.86  231.83  24.54\n",
       "26-Sep-86  86.99  232.23  24.62\n",
       "29-Sep-86  86.47  229.91  24.62\n",
       "30-Sep-86  86.94  231.32  24.76\n",
       "1-Oct-86   87.51  233.60  24.88\n",
       "2-Oct-86   87.62  233.92  24.87"
      ]
     },
     "execution_count": 66,
     "metadata": {},
     "output_type": "execute_result"
    }
   ],
   "source": [
    "df[:10]"
   ]
  },
  {
   "cell_type": "code",
   "execution_count": null,
   "metadata": {
    "collapsed": true
   },
   "outputs": [],
   "source": []
  }
 ],
 "metadata": {
  "anaconda-cloud": {},
  "kernelspec": {
   "display_name": "Python [default]",
   "language": "python",
   "name": "python3"
  },
  "language_info": {
   "codemirror_mode": {
    "name": "ipython",
    "version": 3
   },
   "file_extension": ".py",
   "mimetype": "text/x-python",
   "name": "python",
   "nbconvert_exporter": "python",
   "pygments_lexer": "ipython3",
   "version": "3.5.2"
  }
 },
 "nbformat": 4,
 "nbformat_minor": 1
}
