{
 "cells": [
  {
   "cell_type": "code",
   "execution_count": 4,
   "metadata": {
    "collapsed": false
   },
   "outputs": [],
   "source": [
    "import pandas as pd\n",
    "import numpy as np\n"
   ]
  },
  {
   "cell_type": "code",
   "execution_count": 5,
   "metadata": {
    "collapsed": false
   },
   "outputs": [
    {
     "data": {
      "text/plain": [
       "2014-01-01    1\n",
       "2014-01-02    2\n",
       "2014-01-03    3\n",
       "2014-01-04    4\n",
       "2014-01-05    5\n",
       "Freq: D, dtype: int64"
      ]
     },
     "execution_count": 5,
     "metadata": {},
     "output_type": "execute_result"
    }
   ],
   "source": [
    "ts = pd.Series([1,2,3,4,5],pd.date_range('2014-01',periods=5))\n",
    "ts"
   ]
  },
  {
   "cell_type": "code",
   "execution_count": 6,
   "metadata": {
    "collapsed": false
   },
   "outputs": [
    {
     "data": {
      "text/plain": [
       "2014-01-01         NaN\n",
       "2014-01-02    2.000000\n",
       "2014-01-03    1.500000\n",
       "2014-01-04    1.333333\n",
       "2014-01-05    1.250000\n",
       "Freq: D, dtype: float64"
      ]
     },
     "execution_count": 6,
     "metadata": {},
     "output_type": "execute_result"
    }
   ],
   "source": [
    "ts/ts.shift(1)\n"
   ]
  },
  {
   "cell_type": "code",
   "execution_count": 7,
   "metadata": {
    "collapsed": false
   },
   "outputs": [
    {
     "data": {
      "text/plain": [
       "2014-01-02    1\n",
       "2014-01-03    2\n",
       "2014-01-06    3\n",
       "2014-01-06    4\n",
       "2014-01-06    5\n",
       "dtype: int64"
      ]
     },
     "execution_count": 7,
     "metadata": {},
     "output_type": "execute_result"
    }
   ],
   "source": [
    "ts.shift(1,freq='b')"
   ]
  },
  {
   "cell_type": "code",
   "execution_count": 8,
   "metadata": {
    "collapsed": false
   },
   "outputs": [
    {
     "data": {
      "text/plain": [
       "DatetimeIndex(['2014-01-01', '2014-01-02', '2014-01-03', '2014-01-04',\n",
       "               '2014-01-05'],\n",
       "              dtype='datetime64[ns]', freq='D')"
      ]
     },
     "execution_count": 8,
     "metadata": {},
     "output_type": "execute_result"
    }
   ],
   "source": [
    "ts.index"
   ]
  },
  {
   "cell_type": "code",
   "execution_count": 9,
   "metadata": {
    "collapsed": false
   },
   "outputs": [
    {
     "data": {
      "text/plain": [
       "DatetimeIndex(['2014-01-04', '2014-01-05', '2014-01-06', '2014-01-07',\n",
       "               '2014-01-08'],\n",
       "              dtype='datetime64[ns]', freq='D')"
      ]
     },
     "execution_count": 9,
     "metadata": {},
     "output_type": "execute_result"
    }
   ],
   "source": [
    "ts.index+3"
   ]
  },
  {
   "cell_type": "code",
   "execution_count": 10,
   "metadata": {
    "collapsed": false
   },
   "outputs": [
    {
     "ename": "SyntaxError",
     "evalue": "invalid syntax (<ipython-input-10-7c7174f252f5>, line 1)",
     "output_type": "error",
     "traceback": [
      "\u001b[0;36m  File \u001b[0;32m\"<ipython-input-10-7c7174f252f5>\"\u001b[0;36m, line \u001b[0;32m1\u001b[0m\n\u001b[0;31m    ts.index+3y\u001b[0m\n\u001b[0m              ^\u001b[0m\n\u001b[0;31mSyntaxError\u001b[0m\u001b[0;31m:\u001b[0m invalid syntax\n"
     ]
    }
   ],
   "source": [
    "ts.index+3y"
   ]
  },
  {
   "cell_type": "code",
   "execution_count": 30,
   "metadata": {
    "collapsed": false
   },
   "outputs": [
    {
     "data": {
      "text/plain": [
       "array([2014, 2014, 2014, 2014, 2014], dtype=int32)"
      ]
     },
     "execution_count": 30,
     "metadata": {},
     "output_type": "execute_result"
    }
   ],
   "source": [
    "ts.index.year"
   ]
  },
  {
   "cell_type": "code",
   "execution_count": 31,
   "metadata": {
    "collapsed": false
   },
   "outputs": [
    {
     "ename": "AttributeError",
     "evalue": "can't set attribute",
     "output_type": "error",
     "traceback": [
      "\u001b[0;31m---------------------------------------------------------------------------\u001b[0m",
      "\u001b[0;31mAttributeError\u001b[0m                            Traceback (most recent call last)",
      "\u001b[0;32m<ipython-input-31-f92dc1248103>\u001b[0m in \u001b[0;36m<module>\u001b[0;34m()\u001b[0m\n\u001b[0;32m----> 1\u001b[0;31m \u001b[0mts\u001b[0m\u001b[0;34m.\u001b[0m\u001b[0mindex\u001b[0m\u001b[0;34m.\u001b[0m\u001b[0myear\u001b[0m\u001b[0;34m=\u001b[0m\u001b[0;36m2017\u001b[0m\u001b[0;34m\u001b[0m\u001b[0m\n\u001b[0m",
      "\u001b[0;31mAttributeError\u001b[0m: can't set attribute"
     ]
    }
   ],
   "source": [
    "ts.index.year=2017"
   ]
  },
  {
   "cell_type": "code",
   "execution_count": 11,
   "metadata": {
    "collapsed": false
   },
   "outputs": [
    {
     "data": {
      "text/plain": [
       "2017-12-31    1\n",
       "2017-12-31    2\n",
       "2017-12-31    3\n",
       "2017-12-31    4\n",
       "2017-12-31    5\n",
       "dtype: int64"
      ]
     },
     "execution_count": 11,
     "metadata": {},
     "output_type": "execute_result"
    }
   ],
   "source": [
    "ts.shift(4,freq='A')"
   ]
  },
  {
   "cell_type": "code",
   "execution_count": 12,
   "metadata": {
    "collapsed": false
   },
   "outputs": [
    {
     "data": {
      "text/plain": [
       "2014-01-01    1\n",
       "2014-01-02    2\n",
       "2014-01-03    3\n",
       "2014-01-04    4\n",
       "2014-01-05    5\n",
       "Freq: D, dtype: int64"
      ]
     },
     "execution_count": 12,
     "metadata": {},
     "output_type": "execute_result"
    }
   ],
   "source": [
    "ts"
   ]
  },
  {
   "cell_type": "code",
   "execution_count": 13,
   "metadata": {
    "collapsed": false
   },
   "outputs": [
    {
     "data": {
      "text/plain": [
       "2014-01-01 00:00:00    1.0\n",
       "2014-01-01 01:00:00    NaN\n",
       "2014-01-01 02:00:00    NaN\n",
       "2014-01-01 03:00:00    NaN\n",
       "2014-01-01 04:00:00    NaN\n",
       "2014-01-01 05:00:00    NaN\n",
       "2014-01-01 06:00:00    NaN\n",
       "2014-01-01 07:00:00    NaN\n",
       "2014-01-01 08:00:00    NaN\n",
       "2014-01-01 09:00:00    NaN\n",
       "2014-01-01 10:00:00    NaN\n",
       "2014-01-01 11:00:00    NaN\n",
       "2014-01-01 12:00:00    NaN\n",
       "2014-01-01 13:00:00    NaN\n",
       "2014-01-01 14:00:00    NaN\n",
       "2014-01-01 15:00:00    NaN\n",
       "2014-01-01 16:00:00    NaN\n",
       "2014-01-01 17:00:00    NaN\n",
       "2014-01-01 18:00:00    NaN\n",
       "2014-01-01 19:00:00    NaN\n",
       "2014-01-01 20:00:00    NaN\n",
       "2014-01-01 21:00:00    NaN\n",
       "2014-01-01 22:00:00    NaN\n",
       "2014-01-01 23:00:00    NaN\n",
       "2014-01-02 00:00:00    2.0\n",
       "2014-01-02 01:00:00    NaN\n",
       "2014-01-02 02:00:00    NaN\n",
       "2014-01-02 03:00:00    NaN\n",
       "2014-01-02 04:00:00    NaN\n",
       "2014-01-02 05:00:00    NaN\n",
       "                      ... \n",
       "2014-01-03 19:00:00    NaN\n",
       "2014-01-03 20:00:00    NaN\n",
       "2014-01-03 21:00:00    NaN\n",
       "2014-01-03 22:00:00    NaN\n",
       "2014-01-03 23:00:00    NaN\n",
       "2014-01-04 00:00:00    4.0\n",
       "2014-01-04 01:00:00    NaN\n",
       "2014-01-04 02:00:00    NaN\n",
       "2014-01-04 03:00:00    NaN\n",
       "2014-01-04 04:00:00    NaN\n",
       "2014-01-04 05:00:00    NaN\n",
       "2014-01-04 06:00:00    NaN\n",
       "2014-01-04 07:00:00    NaN\n",
       "2014-01-04 08:00:00    NaN\n",
       "2014-01-04 09:00:00    NaN\n",
       "2014-01-04 10:00:00    NaN\n",
       "2014-01-04 11:00:00    NaN\n",
       "2014-01-04 12:00:00    NaN\n",
       "2014-01-04 13:00:00    NaN\n",
       "2014-01-04 14:00:00    NaN\n",
       "2014-01-04 15:00:00    NaN\n",
       "2014-01-04 16:00:00    NaN\n",
       "2014-01-04 17:00:00    NaN\n",
       "2014-01-04 18:00:00    NaN\n",
       "2014-01-04 19:00:00    NaN\n",
       "2014-01-04 20:00:00    NaN\n",
       "2014-01-04 21:00:00    NaN\n",
       "2014-01-04 22:00:00    NaN\n",
       "2014-01-04 23:00:00    NaN\n",
       "2014-01-05 00:00:00    5.0\n",
       "Freq: H, dtype: float64"
      ]
     },
     "execution_count": 13,
     "metadata": {},
     "output_type": "execute_result"
    }
   ],
   "source": [
    "altdays = ts.asfreq('H')\n",
    "altdays"
   ]
  },
  {
   "cell_type": "code",
   "execution_count": 37,
   "metadata": {
    "collapsed": false
   },
   "outputs": [
    {
     "data": {
      "text/plain": [
       "2014-01-01         NaN\n",
       "2014-01-03    3.000000\n",
       "2014-01-05    1.666667\n",
       "Freq: 2D, dtype: float64"
      ]
     },
     "execution_count": 37,
     "metadata": {},
     "output_type": "execute_result"
    }
   ],
   "source": [
    "altdays / altdays.shift(1)"
   ]
  },
  {
   "cell_type": "code",
   "execution_count": 42,
   "metadata": {
    "collapsed": false
   },
   "outputs": [],
   "source": [
    "import matplotlib as mpl\n",
    "import matplotlib.pyplot as plt\n",
    "%matplotlib inline"
   ]
  },
  {
   "cell_type": "code",
   "execution_count": 43,
   "metadata": {
    "collapsed": false
   },
   "outputs": [
    {
     "data": {
      "text/plain": [
       "<matplotlib.axes._subplots.AxesSubplot at 0x112f5e7b8>"
      ]
     },
     "execution_count": 43,
     "metadata": {},
     "output_type": "execute_result"
    },
    {
     "data": {
      "image/png": "[encoded data removed]",
      "text/plain": [
       "<matplotlib.figure.Figure at 0x112eb7780>"
      ]
     },
     "metadata": {},
     "output_type": "display_data"
    }
   ],
   "source": [
    "pd.Series([1,2,3,4,5]).plot()"
   ]
  },
  {
   "cell_type": "code",
   "execution_count": 47,
   "metadata": {
    "collapsed": false
   },
   "outputs": [
    {
     "data": {
      "text/plain": [
       "<matplotlib.axes._subplots.AxesSubplot at 0x112f48f98>"
      ]
     },
     "execution_count": 47,
     "metadata": {},
     "output_type": "execute_result"
    },
    {
     "data": {
      "image/png": "[encoded data removed]",
      "text/plain": [
       "<matplotlib.figure.Figure at 0x115bda908>"
      ]
     },
     "metadata": {},
     "output_type": "display_data"
    }
   ],
   "source": [
    "t=np.arange(0,3,0.1)\n",
    "dd = pd.DataFrame({'Linear':t,'Squared':t**2,'Cube':t**3, 'Four':t**4})\n",
    "dd.plot(style=[':','*','-','--'])"
   ]
  },
  {
   "cell_type": "code",
   "execution_count": null,
   "metadata": {
    "collapsed": true
   },
   "outputs": [],
   "source": []
  }
 ],
 "metadata": {
  "anaconda-cloud": {},
  "kernelspec": {
   "display_name": "Python [default]",
   "language": "python",
   "name": "python3"
  },
  "language_info": {
   "codemirror_mode": {
    "name": "ipython",
    "version": 3
   },
   "file_extension": ".py",
   "mimetype": "text/x-python",
   "name": "python",
   "nbconvert_exporter": "python",
   "pygments_lexer": "ipython3",
   "version": "3.5.2"
  }
 },
 "nbformat": 4,
 "nbformat_minor": 1
}
